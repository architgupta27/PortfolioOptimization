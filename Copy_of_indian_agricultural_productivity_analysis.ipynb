{
  "cells": [
    {
      "cell_type": "markdown",
      "metadata": {
        "id": "view-in-github",
        "colab_type": "text"
      },
      "source": [
        "<a href=\"https://colab.research.google.com/github/architgupta27/PortfolioOptimization/blob/main/Copy_of_indian_agricultural_productivity_analysis.ipynb\" target=\"_parent\"><img src=\"https://colab.research.google.com/assets/colab-badge.svg\" alt=\"Open In Colab\"/></a>"
      ]
    },
    {
      "cell_type": "markdown",
      "metadata": {
        "id": "_7QL0MNvuhEp"
      },
      "source": [
        "#  Crop Yield Prediction"
      ]
    },
    {
      "cell_type": "markdown",
      "metadata": {
        "id": "-8jWmDomuhEw"
      },
      "source": [
        "#  Importing Libraries"
      ]
    },
    {
      "cell_type": "code",
      "execution_count": 1,
      "metadata": {
        "execution": {
          "iopub.execute_input": "2023-12-31T16:29:48.218339Z",
          "iopub.status.busy": "2023-12-31T16:29:48.217486Z",
          "iopub.status.idle": "2023-12-31T16:29:51.59081Z",
          "shell.execute_reply": "2023-12-31T16:29:51.587614Z",
          "shell.execute_reply.started": "2023-12-31T16:29:48.218297Z"
        },
        "trusted": true,
        "id": "YLFljRIpuhEy"
      },
      "outputs": [],
      "source": [
        "\n",
        "import numpy as np\n",
        "import pandas as pd\n",
        "import matplotlib.pyplot as plt\n",
        "import seaborn as sns\n",
        "import plotly.express as px\n",
        "\n",
        "import warnings\n",
        "warnings.filterwarnings('ignore')"
      ]
    },
    {
      "cell_type": "code",
      "source": [],
      "metadata": {
        "id": "fw2gMEkzu5w1"
      },
      "execution_count": 1,
      "outputs": []
    },
    {
      "cell_type": "code",
      "execution_count": 2,
      "metadata": {
        "execution": {
          "iopub.execute_input": "2023-12-31T16:29:51.599444Z",
          "iopub.status.busy": "2023-12-31T16:29:51.59758Z",
          "iopub.status.idle": "2023-12-31T16:29:51.77885Z",
          "shell.execute_reply": "2023-12-31T16:29:51.777971Z",
          "shell.execute_reply.started": "2023-12-31T16:29:51.5994Z"
        },
        "trusted": true,
        "id": "Tg2fn64UuhE0",
        "colab": {
          "base_uri": "https://localhost:8080/",
          "height": 356
        },
        "outputId": "c3810d75-5200-4793-e632-9a0b9800d34e"
      },
      "outputs": [
        {
          "output_type": "error",
          "ename": "FileNotFoundError",
          "evalue": "[Errno 2] No such file or directory: 'crop_yield.csv'",
          "traceback": [
            "\u001b[0;31m---------------------------------------------------------------------------\u001b[0m",
            "\u001b[0;31mFileNotFoundError\u001b[0m                         Traceback (most recent call last)",
            "\u001b[0;32m<ipython-input-2-557f2a9f5b7f>\u001b[0m in \u001b[0;36m<cell line: 0>\u001b[0;34m()\u001b[0m\n\u001b[1;32m      1\u001b[0m \u001b[0;31m# Loading the dataset\u001b[0m\u001b[0;34m\u001b[0m\u001b[0;34m\u001b[0m\u001b[0m\n\u001b[0;32m----> 2\u001b[0;31m \u001b[0mdf\u001b[0m \u001b[0;34m=\u001b[0m \u001b[0mpd\u001b[0m\u001b[0;34m.\u001b[0m\u001b[0mread_csv\u001b[0m\u001b[0;34m(\u001b[0m\u001b[0;34m'crop_yield.csv'\u001b[0m\u001b[0;34m)\u001b[0m\u001b[0;34m\u001b[0m\u001b[0;34m\u001b[0m\u001b[0m\n\u001b[0m\u001b[1;32m      3\u001b[0m \u001b[0;34m\u001b[0m\u001b[0m\n\u001b[1;32m      4\u001b[0m \u001b[0mdf\u001b[0m\u001b[0;34m.\u001b[0m\u001b[0mhead\u001b[0m\u001b[0;34m(\u001b[0m\u001b[0;34m)\u001b[0m\u001b[0;34m\u001b[0m\u001b[0;34m\u001b[0m\u001b[0m\n",
            "\u001b[0;32m/usr/local/lib/python3.11/dist-packages/pandas/io/parsers/readers.py\u001b[0m in \u001b[0;36mread_csv\u001b[0;34m(filepath_or_buffer, sep, delimiter, header, names, index_col, usecols, dtype, engine, converters, true_values, false_values, skipinitialspace, skiprows, skipfooter, nrows, na_values, keep_default_na, na_filter, verbose, skip_blank_lines, parse_dates, infer_datetime_format, keep_date_col, date_parser, date_format, dayfirst, cache_dates, iterator, chunksize, compression, thousands, decimal, lineterminator, quotechar, quoting, doublequote, escapechar, comment, encoding, encoding_errors, dialect, on_bad_lines, delim_whitespace, low_memory, memory_map, float_precision, storage_options, dtype_backend)\u001b[0m\n\u001b[1;32m   1024\u001b[0m     \u001b[0mkwds\u001b[0m\u001b[0;34m.\u001b[0m\u001b[0mupdate\u001b[0m\u001b[0;34m(\u001b[0m\u001b[0mkwds_defaults\u001b[0m\u001b[0;34m)\u001b[0m\u001b[0;34m\u001b[0m\u001b[0;34m\u001b[0m\u001b[0m\n\u001b[1;32m   1025\u001b[0m \u001b[0;34m\u001b[0m\u001b[0m\n\u001b[0;32m-> 1026\u001b[0;31m     \u001b[0;32mreturn\u001b[0m \u001b[0m_read\u001b[0m\u001b[0;34m(\u001b[0m\u001b[0mfilepath_or_buffer\u001b[0m\u001b[0;34m,\u001b[0m \u001b[0mkwds\u001b[0m\u001b[0;34m)\u001b[0m\u001b[0;34m\u001b[0m\u001b[0;34m\u001b[0m\u001b[0m\n\u001b[0m\u001b[1;32m   1027\u001b[0m \u001b[0;34m\u001b[0m\u001b[0m\n\u001b[1;32m   1028\u001b[0m \u001b[0;34m\u001b[0m\u001b[0m\n",
            "\u001b[0;32m/usr/local/lib/python3.11/dist-packages/pandas/io/parsers/readers.py\u001b[0m in \u001b[0;36m_read\u001b[0;34m(filepath_or_buffer, kwds)\u001b[0m\n\u001b[1;32m    618\u001b[0m \u001b[0;34m\u001b[0m\u001b[0m\n\u001b[1;32m    619\u001b[0m     \u001b[0;31m# Create the parser.\u001b[0m\u001b[0;34m\u001b[0m\u001b[0;34m\u001b[0m\u001b[0m\n\u001b[0;32m--> 620\u001b[0;31m     \u001b[0mparser\u001b[0m \u001b[0;34m=\u001b[0m \u001b[0mTextFileReader\u001b[0m\u001b[0;34m(\u001b[0m\u001b[0mfilepath_or_buffer\u001b[0m\u001b[0;34m,\u001b[0m \u001b[0;34m**\u001b[0m\u001b[0mkwds\u001b[0m\u001b[0;34m)\u001b[0m\u001b[0;34m\u001b[0m\u001b[0;34m\u001b[0m\u001b[0m\n\u001b[0m\u001b[1;32m    621\u001b[0m \u001b[0;34m\u001b[0m\u001b[0m\n\u001b[1;32m    622\u001b[0m     \u001b[0;32mif\u001b[0m \u001b[0mchunksize\u001b[0m \u001b[0;32mor\u001b[0m \u001b[0miterator\u001b[0m\u001b[0;34m:\u001b[0m\u001b[0;34m\u001b[0m\u001b[0;34m\u001b[0m\u001b[0m\n",
            "\u001b[0;32m/usr/local/lib/python3.11/dist-packages/pandas/io/parsers/readers.py\u001b[0m in \u001b[0;36m__init__\u001b[0;34m(self, f, engine, **kwds)\u001b[0m\n\u001b[1;32m   1618\u001b[0m \u001b[0;34m\u001b[0m\u001b[0m\n\u001b[1;32m   1619\u001b[0m         \u001b[0mself\u001b[0m\u001b[0;34m.\u001b[0m\u001b[0mhandles\u001b[0m\u001b[0;34m:\u001b[0m \u001b[0mIOHandles\u001b[0m \u001b[0;34m|\u001b[0m \u001b[0;32mNone\u001b[0m \u001b[0;34m=\u001b[0m \u001b[0;32mNone\u001b[0m\u001b[0;34m\u001b[0m\u001b[0;34m\u001b[0m\u001b[0m\n\u001b[0;32m-> 1620\u001b[0;31m         \u001b[0mself\u001b[0m\u001b[0;34m.\u001b[0m\u001b[0m_engine\u001b[0m \u001b[0;34m=\u001b[0m \u001b[0mself\u001b[0m\u001b[0;34m.\u001b[0m\u001b[0m_make_engine\u001b[0m\u001b[0;34m(\u001b[0m\u001b[0mf\u001b[0m\u001b[0;34m,\u001b[0m \u001b[0mself\u001b[0m\u001b[0;34m.\u001b[0m\u001b[0mengine\u001b[0m\u001b[0;34m)\u001b[0m\u001b[0;34m\u001b[0m\u001b[0;34m\u001b[0m\u001b[0m\n\u001b[0m\u001b[1;32m   1621\u001b[0m \u001b[0;34m\u001b[0m\u001b[0m\n\u001b[1;32m   1622\u001b[0m     \u001b[0;32mdef\u001b[0m \u001b[0mclose\u001b[0m\u001b[0;34m(\u001b[0m\u001b[0mself\u001b[0m\u001b[0;34m)\u001b[0m \u001b[0;34m->\u001b[0m \u001b[0;32mNone\u001b[0m\u001b[0;34m:\u001b[0m\u001b[0;34m\u001b[0m\u001b[0;34m\u001b[0m\u001b[0m\n",
            "\u001b[0;32m/usr/local/lib/python3.11/dist-packages/pandas/io/parsers/readers.py\u001b[0m in \u001b[0;36m_make_engine\u001b[0;34m(self, f, engine)\u001b[0m\n\u001b[1;32m   1878\u001b[0m                 \u001b[0;32mif\u001b[0m \u001b[0;34m\"b\"\u001b[0m \u001b[0;32mnot\u001b[0m \u001b[0;32min\u001b[0m \u001b[0mmode\u001b[0m\u001b[0;34m:\u001b[0m\u001b[0;34m\u001b[0m\u001b[0;34m\u001b[0m\u001b[0m\n\u001b[1;32m   1879\u001b[0m                     \u001b[0mmode\u001b[0m \u001b[0;34m+=\u001b[0m \u001b[0;34m\"b\"\u001b[0m\u001b[0;34m\u001b[0m\u001b[0;34m\u001b[0m\u001b[0m\n\u001b[0;32m-> 1880\u001b[0;31m             self.handles = get_handle(\n\u001b[0m\u001b[1;32m   1881\u001b[0m                 \u001b[0mf\u001b[0m\u001b[0;34m,\u001b[0m\u001b[0;34m\u001b[0m\u001b[0;34m\u001b[0m\u001b[0m\n\u001b[1;32m   1882\u001b[0m                 \u001b[0mmode\u001b[0m\u001b[0;34m,\u001b[0m\u001b[0;34m\u001b[0m\u001b[0;34m\u001b[0m\u001b[0m\n",
            "\u001b[0;32m/usr/local/lib/python3.11/dist-packages/pandas/io/common.py\u001b[0m in \u001b[0;36mget_handle\u001b[0;34m(path_or_buf, mode, encoding, compression, memory_map, is_text, errors, storage_options)\u001b[0m\n\u001b[1;32m    871\u001b[0m         \u001b[0;32mif\u001b[0m \u001b[0mioargs\u001b[0m\u001b[0;34m.\u001b[0m\u001b[0mencoding\u001b[0m \u001b[0;32mand\u001b[0m \u001b[0;34m\"b\"\u001b[0m \u001b[0;32mnot\u001b[0m \u001b[0;32min\u001b[0m \u001b[0mioargs\u001b[0m\u001b[0;34m.\u001b[0m\u001b[0mmode\u001b[0m\u001b[0;34m:\u001b[0m\u001b[0;34m\u001b[0m\u001b[0;34m\u001b[0m\u001b[0m\n\u001b[1;32m    872\u001b[0m             \u001b[0;31m# Encoding\u001b[0m\u001b[0;34m\u001b[0m\u001b[0;34m\u001b[0m\u001b[0m\n\u001b[0;32m--> 873\u001b[0;31m             handle = open(\n\u001b[0m\u001b[1;32m    874\u001b[0m                 \u001b[0mhandle\u001b[0m\u001b[0;34m,\u001b[0m\u001b[0;34m\u001b[0m\u001b[0;34m\u001b[0m\u001b[0m\n\u001b[1;32m    875\u001b[0m                 \u001b[0mioargs\u001b[0m\u001b[0;34m.\u001b[0m\u001b[0mmode\u001b[0m\u001b[0;34m,\u001b[0m\u001b[0;34m\u001b[0m\u001b[0;34m\u001b[0m\u001b[0m\n",
            "\u001b[0;31mFileNotFoundError\u001b[0m: [Errno 2] No such file or directory: 'crop_yield.csv'"
          ]
        }
      ],
      "source": [
        "# Loading the dataset\n",
        "df = pd.read_csv('crop_yield.csv')\n",
        "\n",
        "df.head()"
      ]
    },
    {
      "cell_type": "code",
      "execution_count": null,
      "metadata": {
        "execution": {
          "iopub.execute_input": "2023-12-31T16:29:51.781168Z",
          "iopub.status.busy": "2023-12-31T16:29:51.780667Z",
          "iopub.status.idle": "2023-12-31T16:29:51.799005Z",
          "shell.execute_reply": "2023-12-31T16:29:51.797664Z",
          "shell.execute_reply.started": "2023-12-31T16:29:51.781132Z"
        },
        "trusted": true,
        "id": "Wo6BZnkQuhE1"
      },
      "outputs": [],
      "source": [
        "df.tail()"
      ]
    },
    {
      "cell_type": "code",
      "execution_count": null,
      "metadata": {
        "execution": {
          "iopub.execute_input": "2023-12-31T16:29:51.802864Z",
          "iopub.status.busy": "2023-12-31T16:29:51.802194Z",
          "iopub.status.idle": "2023-12-31T16:29:51.814269Z",
          "shell.execute_reply": "2023-12-31T16:29:51.812833Z",
          "shell.execute_reply.started": "2023-12-31T16:29:51.802823Z"
        },
        "trusted": true,
        "id": "glQLqz31uhE2"
      },
      "outputs": [],
      "source": [
        "print(\"Shape of the dataset : \",df.shape)"
      ]
    },
    {
      "cell_type": "markdown",
      "metadata": {
        "id": "vsH-r-RcuhE3"
      },
      "source": [
        "# Preprocessing of the dataset"
      ]
    },
    {
      "cell_type": "code",
      "execution_count": null,
      "metadata": {
        "execution": {
          "iopub.execute_input": "2023-12-31T16:29:51.81657Z",
          "iopub.status.busy": "2023-12-31T16:29:51.815698Z",
          "iopub.status.idle": "2023-12-31T16:29:51.845045Z",
          "shell.execute_reply": "2023-12-31T16:29:51.843816Z",
          "shell.execute_reply.started": "2023-12-31T16:29:51.816532Z"
        },
        "trusted": true,
        "id": "lCYXdactuhE3"
      },
      "outputs": [],
      "source": [
        "df.isnull().sum()"
      ]
    },
    {
      "cell_type": "code",
      "execution_count": null,
      "metadata": {
        "id": "ZLcyzmBvuhE4"
      },
      "outputs": [],
      "source": [
        "\n",
        "\n",
        "# Plot bar chart for missing values\n",
        "missing_values = df.isnull().sum()\n",
        "plt.figure(figsize=(10, 5))\n",
        "sns.barplot(x=missing_values.index, y=missing_values.values, palette=\"viridis\")\n",
        "plt.xticks(rotation=45)\n",
        "plt.ylabel(\"Number of Missing Values\")\n",
        "plt.title(\"Missing Values per Column\")\n",
        "plt.show()"
      ]
    },
    {
      "cell_type": "code",
      "execution_count": null,
      "metadata": {
        "execution": {
          "iopub.execute_input": "2023-12-31T16:29:51.847066Z",
          "iopub.status.busy": "2023-12-31T16:29:51.846479Z",
          "iopub.status.idle": "2023-12-31T16:29:51.891249Z",
          "shell.execute_reply": "2023-12-31T16:29:51.889843Z",
          "shell.execute_reply.started": "2023-12-31T16:29:51.847034Z"
        },
        "trusted": true,
        "id": "Br461HgwuhE4"
      },
      "outputs": [],
      "source": [
        "df.info()"
      ]
    },
    {
      "cell_type": "markdown",
      "metadata": {
        "id": "fTZZGuSouhE5"
      },
      "source": [
        "### * No Null values in dataset since the shape shows no of rows are 19689 and isnull() function return 0\n",
        "### * Even in df.info() count of non null for every column is equal to the shape that is no of rows in dataset"
      ]
    },
    {
      "cell_type": "code",
      "execution_count": null,
      "metadata": {
        "execution": {
          "iopub.execute_input": "2023-12-31T16:29:51.893601Z",
          "iopub.status.busy": "2023-12-31T16:29:51.892629Z",
          "iopub.status.idle": "2023-12-31T16:29:51.978389Z",
          "shell.execute_reply": "2023-12-31T16:29:51.976415Z",
          "shell.execute_reply.started": "2023-12-31T16:29:51.893564Z"
        },
        "scrolled": true,
        "trusted": true,
        "id": "iQUpjDpguhE5"
      },
      "outputs": [],
      "source": [
        "# to check the unique values\n",
        "for i in df.columns:\n",
        "    print(\"******************************\",i,\"*********************************\")\n",
        "    print()\n",
        "    print(set(df[i].tolist()))\n",
        "    print()"
      ]
    },
    {
      "cell_type": "code",
      "execution_count": null,
      "metadata": {
        "execution": {
          "iopub.execute_input": "2023-12-31T16:29:51.979712Z",
          "iopub.status.busy": "2023-12-31T16:29:51.979396Z",
          "iopub.status.idle": "2023-12-31T16:29:52.01347Z",
          "shell.execute_reply": "2023-12-31T16:29:52.012584Z",
          "shell.execute_reply.started": "2023-12-31T16:29:51.979684Z"
        },
        "trusted": true,
        "id": "-rpSluo9uhE6"
      },
      "outputs": [],
      "source": [
        "# Checking for duplicates record\n",
        "df.duplicated().sum()"
      ]
    },
    {
      "cell_type": "code",
      "execution_count": null,
      "metadata": {
        "id": "6sq_jtAnuhE7"
      },
      "outputs": [],
      "source": [
        "# Count duplicates\n",
        "duplicate_count = df.duplicated().sum()\n",
        "unique_count = len(df) - duplicate_count\n",
        "\n",
        "# Pie chart\n",
        "plt.figure(figsize=(6, 6))\n",
        "plt.pie([unique_count, duplicate_count], labels=[\"Unique Records\", \"Duplicate Records\"],\n",
        "        autopct='%1.1f%%', colors=['lightblue', 'red'])\n",
        "plt.title(\"Duplicate Records in Dataset\")\n",
        "plt.show()"
      ]
    },
    {
      "cell_type": "markdown",
      "metadata": {
        "id": "8gy9_DBFuhE7"
      },
      "source": [
        "###  * No Duplicate records found"
      ]
    },
    {
      "cell_type": "code",
      "execution_count": null,
      "metadata": {
        "execution": {
          "iopub.execute_input": "2023-12-31T16:29:52.015517Z",
          "iopub.status.busy": "2023-12-31T16:29:52.014659Z",
          "iopub.status.idle": "2023-12-31T16:29:52.060394Z",
          "shell.execute_reply": "2023-12-31T16:29:52.059209Z",
          "shell.execute_reply.started": "2023-12-31T16:29:52.015485Z"
        },
        "trusted": true,
        "id": "bRzZuObruhE7"
      },
      "outputs": [],
      "source": [
        "df.describe()"
      ]
    },
    {
      "cell_type": "markdown",
      "metadata": {
        "id": "a6tBIyJWuhE8"
      },
      "source": [
        "# Visualization"
      ]
    },
    {
      "cell_type": "code",
      "execution_count": null,
      "metadata": {
        "execution": {
          "iopub.execute_input": "2023-12-31T16:29:52.065152Z",
          "iopub.status.busy": "2023-12-31T16:29:52.064757Z",
          "iopub.status.idle": "2023-12-31T16:29:52.53133Z",
          "shell.execute_reply": "2023-12-31T16:29:52.52994Z",
          "shell.execute_reply.started": "2023-12-31T16:29:52.065117Z"
        },
        "trusted": true,
        "id": "Enp9_II3uhE8"
      },
      "outputs": [],
      "source": [
        "sns.scatterplot(x = df['Annual_Rainfall'], y = df['Yield'])\n",
        "plt.show"
      ]
    },
    {
      "cell_type": "markdown",
      "metadata": {
        "id": "JktpiUGDuhE8"
      },
      "source": [
        "#### * High Yield is Concentrated at Moderate Rainfall (500mm - 3000mm)\n",
        "#### * Most of the high-yield points (above 5000) are in this range, suggesting moderate rainfall is optimal for good crop yield.\n",
        "#### * Low Yield for Very High Rainfall (>4000mm)\n",
        "#### * Almost no high-yield crops in regions with excessive rainfall.\n",
        "#### * Many data points are clustered near Yield = 0.\n",
        "#### * Suggesting Crop failure due to droughts, floods, poor soil conditions."
      ]
    },
    {
      "cell_type": "markdown",
      "metadata": {
        "id": "yZEhkuJTuhE8"
      },
      "source": [
        "# Year wise analysis of agricultural production"
      ]
    },
    {
      "cell_type": "code",
      "execution_count": null,
      "metadata": {
        "id": "ZO_dbWeDuhE9"
      },
      "outputs": [],
      "source": [
        "# Count occurrences of each year\n",
        "year_counts = df['Crop_Year'].value_counts().sort_index()\n",
        "print(year_counts)"
      ]
    },
    {
      "cell_type": "code",
      "execution_count": null,
      "metadata": {
        "id": "uJobl6WHuhE9"
      },
      "outputs": [],
      "source": [
        "# Plot the data\n",
        "plt.figure(figsize=(10,5))\n",
        "sns.barplot(x=year_counts.index, y=year_counts.values, palette=\"viridis\")\n",
        "plt.xlabel(\"Year\")\n",
        "plt.ylabel(\"Number of Records\")\n",
        "plt.title(\"Number of Data Entries Per Year\")\n",
        "plt.xticks(rotation=45)\n",
        "plt.show()"
      ]
    },
    {
      "cell_type": "code",
      "execution_count": null,
      "metadata": {
        "execution": {
          "iopub.execute_input": "2023-12-31T16:29:52.533361Z",
          "iopub.status.busy": "2023-12-31T16:29:52.532991Z",
          "iopub.status.idle": "2023-12-31T16:29:52.540542Z",
          "shell.execute_reply": "2023-12-31T16:29:52.53966Z",
          "shell.execute_reply.started": "2023-12-31T16:29:52.533329Z"
        },
        "trusted": true,
        "id": "RlI6vAS5uhE9"
      },
      "outputs": [],
      "source": [
        "df_year = df[df['Crop_Year']!=2020]  # As the data of 2020 is incomplete only 37 records"
      ]
    },
    {
      "cell_type": "code",
      "execution_count": null,
      "metadata": {
        "execution": {
          "iopub.execute_input": "2023-12-31T16:29:52.542207Z",
          "iopub.status.busy": "2023-12-31T16:29:52.541829Z",
          "iopub.status.idle": "2023-12-31T16:29:52.614064Z",
          "shell.execute_reply": "2023-12-31T16:29:52.612583Z",
          "shell.execute_reply.started": "2023-12-31T16:29:52.542176Z"
        },
        "trusted": true,
        "id": "lJUrq6_cuhE9"
      },
      "outputs": [],
      "source": [
        "year_yield = df_year.groupby('Crop_Year').sum()\n",
        "year_yield"
      ]
    },
    {
      "cell_type": "code",
      "execution_count": null,
      "metadata": {
        "execution": {
          "iopub.execute_input": "2023-12-31T16:29:52.615971Z",
          "iopub.status.busy": "2023-12-31T16:29:52.615266Z",
          "iopub.status.idle": "2023-12-31T16:29:52.95836Z",
          "shell.execute_reply": "2023-12-31T16:29:52.95735Z",
          "shell.execute_reply.started": "2023-12-31T16:29:52.615925Z"
        },
        "trusted": true,
        "id": "Yg78tjOUuhE9"
      },
      "outputs": [],
      "source": [
        "plt.figure(figsize = (12,5))\n",
        "plt.plot(year_yield.index, year_yield['Yield'],color='blue', linestyle='dashed', marker='o',\n",
        "        markersize=12, markerfacecolor='yellow')\n",
        "plt.xlabel('Year')\n",
        "plt.ylabel('Yield')\n",
        "plt.title('Measure of Yield over the year')\n",
        "plt.show()"
      ]
    },
    {
      "cell_type": "markdown",
      "metadata": {
        "id": "ulWOpb25uhE-"
      },
      "source": [
        "#### * It can be observed that the yield has increased over the year.\n",
        "#### * but after 2014 it is showing the declining trend. Reasons can be climate change, decrease in soil fertility"
      ]
    },
    {
      "cell_type": "code",
      "execution_count": null,
      "metadata": {
        "execution": {
          "iopub.execute_input": "2023-12-31T16:29:52.960527Z",
          "iopub.status.busy": "2023-12-31T16:29:52.959489Z",
          "iopub.status.idle": "2023-12-31T16:29:53.326372Z",
          "shell.execute_reply": "2023-12-31T16:29:53.325364Z",
          "shell.execute_reply.started": "2023-12-31T16:29:52.960493Z"
        },
        "trusted": true,
        "id": "9coosVG2uhE-"
      },
      "outputs": [],
      "source": [
        "plt.figure(figsize = (12,3))\n",
        "plt.plot(year_yield.index, year_yield['Area'],color='blue', linestyle='dashed', marker='o',\n",
        "        markersize=12, markerfacecolor='red')\n",
        "plt.xlabel('Year')\n",
        "plt.ylabel('Area')\n",
        "plt.title('Area under cultivation over the year')\n",
        "plt.show()"
      ]
    },
    {
      "cell_type": "markdown",
      "metadata": {
        "id": "Db_h37VUuhE-"
      },
      "source": [
        "#### * It can be observed that the area under cultivation has increased substantially. Either with the help of fertilizer and more irrigation fallow land is now under cultivation or area under forest is used for agriculture."
      ]
    },
    {
      "cell_type": "code",
      "execution_count": null,
      "metadata": {
        "execution": {
          "iopub.execute_input": "2023-12-31T16:29:53.328687Z",
          "iopub.status.busy": "2023-12-31T16:29:53.327693Z",
          "iopub.status.idle": "2023-12-31T16:29:53.639853Z",
          "shell.execute_reply": "2023-12-31T16:29:53.638984Z",
          "shell.execute_reply.started": "2023-12-31T16:29:53.328647Z"
        },
        "trusted": true,
        "id": "XI3H8oA3uhE-"
      },
      "outputs": [],
      "source": [
        "plt.figure(figsize = (12,3))\n",
        "plt.plot(year_yield.index, year_yield['Fertilizer'],color='blue', linestyle='dashed', marker='o',\n",
        "        markersize=12, markerfacecolor='green')\n",
        "plt.xlabel('Year')\n",
        "plt.ylabel('Fertilizer')\n",
        "plt.title('Use of Fertilizer over the year')\n",
        "plt.show()"
      ]
    },
    {
      "cell_type": "markdown",
      "metadata": {
        "id": "CJbtRqg1uhE-"
      },
      "source": [
        "### * The overall trend for Fertilizer in the fields shows an increasing trend."
      ]
    },
    {
      "cell_type": "code",
      "execution_count": null,
      "metadata": {
        "execution": {
          "iopub.execute_input": "2023-12-31T16:29:53.641994Z",
          "iopub.status.busy": "2023-12-31T16:29:53.641357Z",
          "iopub.status.idle": "2023-12-31T16:29:53.934945Z",
          "shell.execute_reply": "2023-12-31T16:29:53.934066Z",
          "shell.execute_reply.started": "2023-12-31T16:29:53.641954Z"
        },
        "trusted": true,
        "id": "e1vnG1tmuhE_"
      },
      "outputs": [],
      "source": [
        "plt.figure(figsize = (12,3))\n",
        "plt.plot(year_yield.index, year_yield['Pesticide'],color='red', linestyle='dashed', marker='o',\n",
        "        markersize=12, markerfacecolor='cyan')\n",
        "plt.xlabel('Year')\n",
        "plt.ylabel('Pesticide')\n",
        "plt.title('Use of Pesticide over the Year')\n",
        "plt.show()"
      ]
    },
    {
      "cell_type": "markdown",
      "metadata": {
        "id": "mlBnV8eDuhE_"
      },
      "source": [
        "### * The pesticide usage initially decreases from 1997 to around 2007.\n",
        "### * From 2007 to 2010, there is a sharp decline, reaching the lowest point at 2008.\n",
        "### * After 2010, pesticide usage rises significantly, showing an increasing trend till 2020.\n",
        "### * after 2010 indicate periods of stabilization and slight drops, but the overall trend is upward."
      ]
    },
    {
      "cell_type": "markdown",
      "metadata": {
        "id": "jGBe8gFzuhE_"
      },
      "source": [
        "# State wise analysis of agricultural production"
      ]
    },
    {
      "cell_type": "code",
      "execution_count": null,
      "metadata": {
        "execution": {
          "iopub.execute_input": "2023-12-31T16:29:53.937072Z",
          "iopub.status.busy": "2023-12-31T16:29:53.936456Z",
          "iopub.status.idle": "2023-12-31T16:29:53.996714Z",
          "shell.execute_reply": "2023-12-31T16:29:53.995431Z",
          "shell.execute_reply.started": "2023-12-31T16:29:53.937037Z"
        },
        "trusted": true,
        "id": "78Urqz_TuhE_"
      },
      "outputs": [],
      "source": [
        "df_state = df.groupby('State').sum()\n",
        "df_state.sort_values(by = 'Yield', inplace=True, ascending = False)\n",
        "df_state"
      ]
    },
    {
      "cell_type": "code",
      "execution_count": null,
      "metadata": {
        "execution": {
          "iopub.execute_input": "2023-12-31T16:29:53.999351Z",
          "iopub.status.busy": "2023-12-31T16:29:53.998574Z",
          "iopub.status.idle": "2023-12-31T16:29:56.515569Z",
          "shell.execute_reply": "2023-12-31T16:29:56.514104Z",
          "shell.execute_reply.started": "2023-12-31T16:29:53.999305Z"
        },
        "trusted": true,
        "id": "KC8Bdjr9uhFA"
      },
      "outputs": [],
      "source": [
        "#df_state['Region'] = ['States' for i in range(len(df_state))]\n",
        "\n",
        "#fig = px.bar(df_state, x='Region', y = 'Yield', color=df_state.index, hover_data=['Yield'])\n",
        "#fig.show()"
      ]
    },
    {
      "cell_type": "code",
      "execution_count": null,
      "metadata": {
        "id": "a1_CceawuhFA"
      },
      "outputs": [],
      "source": [
        "plt.figure(figsize=(10, 6))\n",
        "sns.barplot(data=df_state, x=df_state.index, y='Yield', palette='viridis')\n",
        "\n",
        "\n",
        "plt.xlabel('States')\n",
        "plt.ylabel('Yield')\n",
        "plt.title('Yield Across Different States')\n",
        "plt.xticks(rotation=45)  # Rotate x labels if needed\n",
        "\n",
        "# Show the plot\n",
        "plt.show()"
      ]
    },
    {
      "cell_type": "markdown",
      "metadata": {
        "id": "xpGoiAR9uhFB"
      },
      "source": [
        "### * From the above graph it can be observed that the yield of West Bengal is highest.\n",
        "### * Reason can be more annual rainfall, use of fertilizers"
      ]
    },
    {
      "cell_type": "code",
      "execution_count": null,
      "metadata": {
        "execution": {
          "iopub.execute_input": "2023-12-31T16:29:56.525445Z",
          "iopub.status.busy": "2023-12-31T16:29:56.52467Z",
          "iopub.status.idle": "2023-12-31T16:29:57.147551Z",
          "shell.execute_reply": "2023-12-31T16:29:57.146119Z",
          "shell.execute_reply.started": "2023-12-31T16:29:56.52539Z"
        },
        "trusted": true,
        "id": "XCyiY5VuuhFB"
      },
      "outputs": [],
      "source": [
        "#plt.figure(figsize = (15,8))\n",
        "#sns.barplot(x = df_state.index, y=df_state['Annual_Rainfall'], palette = 'gnuplot')\n",
        "#plt.xticks(rotation = 45)\n",
        "#plt.show()\n",
        "\n",
        "plt.figure(figsize=(15, 8))\n",
        "sns.barplot(x=df_state.index, y=df_state['Annual_Rainfall'], palette='gnuplot')\n",
        "\n",
        "# Adding title and labels\n",
        "plt.title(\"Annual Rainfall Across Different States\", fontsize=16, fontweight='bold')\n",
        "plt.xlabel(\"States\", fontsize=14)\n",
        "plt.ylabel(\"Annual Rainfall (mm)\", fontsize=14)\n",
        "\n",
        "# Rotate x-axis labels for better readability\n",
        "plt.xticks(rotation=45, ha='right')\n",
        "\n",
        "# Add grid for better visualization\n",
        "plt.grid(axis='y', linestyle='--', alpha=0.7)\n",
        "\n",
        "# Show the plot\n",
        "plt.show()"
      ]
    },
    {
      "cell_type": "markdown",
      "metadata": {
        "id": "nkeiuePYuhFB"
      },
      "source": [
        "### * There is a significant variation in annual rainfall across different states.\n",
        "### * Some states receive extremely high rainfall, while others receive much less.\n"
      ]
    },
    {
      "cell_type": "code",
      "execution_count": null,
      "metadata": {
        "execution": {
          "iopub.execute_input": "2023-12-31T16:29:57.14958Z",
          "iopub.status.busy": "2023-12-31T16:29:57.149195Z",
          "iopub.status.idle": "2023-12-31T16:29:57.953481Z",
          "shell.execute_reply": "2023-12-31T16:29:57.952224Z",
          "shell.execute_reply.started": "2023-12-31T16:29:57.149546Z"
        },
        "trusted": true,
        "id": "otg-RqJTuhFI"
      },
      "outputs": [],
      "source": [
        "plt.figure(figsize=(12,5))\n",
        "sns.scatterplot(x=df_state.index, y = df_state['Annual_Rainfall'], palette='rainbow', hue = df_state['Yield'])\n",
        "plt.xticks(rotation=45)\n",
        "plt.title('Annual Rainfall across the States')\n",
        "plt.show()"
      ]
    },
    {
      "cell_type": "code",
      "execution_count": null,
      "metadata": {
        "execution": {
          "iopub.execute_input": "2023-12-31T16:29:57.957139Z",
          "iopub.status.busy": "2023-12-31T16:29:57.956072Z",
          "iopub.status.idle": "2023-12-31T16:29:58.648411Z",
          "shell.execute_reply": "2023-12-31T16:29:58.647061Z",
          "shell.execute_reply.started": "2023-12-31T16:29:57.957088Z"
        },
        "trusted": true,
        "id": "uoT2xHUCuhFI"
      },
      "outputs": [],
      "source": [
        "plt.figure(figsize=(12,5))\n",
        "sns.scatterplot(x=df_state.index, y=df_state['Fertilizer'], palette='spring', hue = df_state['Yield'])\n",
        "plt.xticks(rotation=45)\n",
        "plt.title('Use of Fertilizer in Different States')\n",
        "plt.show()"
      ]
    },
    {
      "cell_type": "markdown",
      "metadata": {
        "id": "qGdloNDAuhFI"
      },
      "source": [
        "\n",
        "### * Annual Rainfall is highest in Chattisgarh but the yield is not the highest.\n",
        "### * West Bengal has the maximum yield\n",
        "### * Uttar Pradesh, Haryana, Maharashtra are using high amount of fertilizer but yield is not high reason can be low annual rainfall"
      ]
    },
    {
      "cell_type": "markdown",
      "metadata": {
        "id": "UjLUVrUjuhFI"
      },
      "source": [
        "# Season wise analysis"
      ]
    },
    {
      "cell_type": "code",
      "execution_count": null,
      "metadata": {
        "execution": {
          "iopub.execute_input": "2023-12-31T16:29:58.650044Z",
          "iopub.status.busy": "2023-12-31T16:29:58.649691Z",
          "iopub.status.idle": "2023-12-31T16:29:58.735693Z",
          "shell.execute_reply": "2023-12-31T16:29:58.734323Z",
          "shell.execute_reply.started": "2023-12-31T16:29:58.650014Z"
        },
        "trusted": true,
        "id": "7zcRlprvuhFJ"
      },
      "outputs": [],
      "source": [
        "df_Seas = df[df['Season']!='Whole Year ']\n",
        "\n",
        "df_season = df_Seas.groupby('Season').sum()\n",
        "df_season"
      ]
    },
    {
      "cell_type": "code",
      "execution_count": null,
      "metadata": {
        "execution": {
          "iopub.execute_input": "2023-12-31T16:29:58.737752Z",
          "iopub.status.busy": "2023-12-31T16:29:58.737398Z",
          "iopub.status.idle": "2023-12-31T16:29:58.845959Z",
          "shell.execute_reply": "2023-12-31T16:29:58.84508Z",
          "shell.execute_reply.started": "2023-12-31T16:29:58.737722Z"
        },
        "trusted": true,
        "id": "CsMBSCkYuhFJ"
      },
      "outputs": [],
      "source": [
        "#fig = px.bar(df_season, y = 'Area', color=df_season.index, hover_data=['Area'],text = 'Area')\n",
        "#fig.show()\n",
        "\n",
        "# Plotting the bar chart\n",
        "plt.figure(figsize=(10, 6))\n",
        "sns.barplot(x=df_season.index, y=df_season['Area'], palette='viridis')\n",
        "\n",
        "# Adding labels\n",
        "plt.xlabel(\"Season\", fontsize=12)\n",
        "plt.ylabel(\"Total Area\", fontsize=12)\n",
        "plt.title(\"Total Area Covered in Different Seasons\", fontsize=14)\n",
        "\n",
        "# Rotating x-axis labels for better visibility\n",
        "plt.xticks(rotation=45)\n",
        "\n",
        "# Display the plot\n",
        "plt.show()"
      ]
    },
    {
      "cell_type": "markdown",
      "metadata": {
        "id": "wJAf-tyJuhFJ"
      },
      "source": [
        "### * Area under cultivation in Kharif season is highest, second is Rabi season\n",
        "### * Crops in autumn, summer are not grown over large area"
      ]
    },
    {
      "cell_type": "code",
      "execution_count": null,
      "metadata": {
        "execution": {
          "iopub.execute_input": "2023-12-31T16:29:58.848107Z",
          "iopub.status.busy": "2023-12-31T16:29:58.847067Z",
          "iopub.status.idle": "2023-12-31T16:29:58.986953Z",
          "shell.execute_reply": "2023-12-31T16:29:58.985719Z",
          "shell.execute_reply.started": "2023-12-31T16:29:58.848073Z"
        },
        "trusted": true,
        "id": "LJEyiDxzuhFJ"
      },
      "outputs": [],
      "source": [
        "#fig = px.sunburst(df_season, path=[df_season.index, 'Yield'], values='Yield',\n",
        "                  #color=df_season.index, hover_data=['Yield'])\n",
        "#fig.show()\n",
        "plt.figure(figsize=(8, 8))\n",
        "plt.pie(df_season['Yield'], labels=df_season.index, autopct='%1.1f%%', colors=plt.cm.Paired.colors)\n",
        "\n",
        "plt.title(\"Yield Distribution Across Seasons\")\n",
        "plt.show()\n"
      ]
    },
    {
      "cell_type": "markdown",
      "metadata": {
        "id": "zBV_0qzDuhFJ"
      },
      "source": [
        "\n",
        "\n",
        "### * Yield in India is maximum in Kharif season"
      ]
    },
    {
      "cell_type": "markdown",
      "metadata": {
        "id": "32ndN-rFuhFK"
      },
      "source": [
        "# Crop wise Analysis"
      ]
    },
    {
      "cell_type": "code",
      "execution_count": null,
      "metadata": {
        "execution": {
          "iopub.execute_input": "2023-12-31T16:29:58.988938Z",
          "iopub.status.busy": "2023-12-31T16:29:58.988467Z",
          "iopub.status.idle": "2023-12-31T16:29:58.998104Z",
          "shell.execute_reply": "2023-12-31T16:29:58.996888Z",
          "shell.execute_reply.started": "2023-12-31T16:29:58.98887Z"
        },
        "trusted": true,
        "id": "27By2MXtuhFK"
      },
      "outputs": [],
      "source": [
        "# Where the Yield is zero\n",
        "df_yz = df[df['Yield']==0]\n",
        "df_yz.shape"
      ]
    },
    {
      "cell_type": "code",
      "execution_count": null,
      "metadata": {
        "execution": {
          "iopub.execute_input": "2023-12-31T16:29:58.99988Z",
          "iopub.status.busy": "2023-12-31T16:29:58.999547Z",
          "iopub.status.idle": "2023-12-31T16:29:59.024956Z",
          "shell.execute_reply": "2023-12-31T16:29:59.023467Z",
          "shell.execute_reply.started": "2023-12-31T16:29:58.999852Z"
        },
        "trusted": true,
        "id": "XOOsSY7LuhFK"
      },
      "outputs": [],
      "source": [
        "df_yz.head()"
      ]
    },
    {
      "cell_type": "code",
      "execution_count": null,
      "metadata": {
        "execution": {
          "iopub.execute_input": "2023-12-31T16:29:59.036842Z",
          "iopub.status.busy": "2023-12-31T16:29:59.035687Z",
          "iopub.status.idle": "2023-12-31T16:30:00.044207Z",
          "shell.execute_reply": "2023-12-31T16:30:00.042852Z",
          "shell.execute_reply.started": "2023-12-31T16:29:59.036798Z"
        },
        "trusted": true,
        "id": "Fqr0yphSuhFK"
      },
      "outputs": [],
      "source": [
        "plt.figure(figsize = (25,15))\n",
        "sns.catplot(y=\"State\", x=\"Crop\",data=df_yz, aspect = 3, palette ='inferno')\n",
        "plt.xticks(rotation=45)\n",
        "plt.title('States and the Crops where yield is zero')\n",
        "plt.show()"
      ]
    },
    {
      "cell_type": "code",
      "execution_count": null,
      "metadata": {
        "execution": {
          "iopub.execute_input": "2023-12-31T16:30:00.046627Z",
          "iopub.status.busy": "2023-12-31T16:30:00.046175Z",
          "iopub.status.idle": "2023-12-31T16:30:00.126797Z",
          "shell.execute_reply": "2023-12-31T16:30:00.125446Z",
          "shell.execute_reply.started": "2023-12-31T16:30:00.046588Z"
        },
        "trusted": true,
        "id": "iWdvOY2MuhFK"
      },
      "outputs": [],
      "source": [
        "df_ynz = df[df['Yield']>0]  # where yield is more than zero\n",
        "df_crop = df_ynz.groupby('Crop').sum()\n",
        "df_crop"
      ]
    },
    {
      "cell_type": "code",
      "execution_count": null,
      "metadata": {
        "execution": {
          "iopub.execute_input": "2023-12-31T16:30:00.129021Z",
          "iopub.status.busy": "2023-12-31T16:30:00.12864Z",
          "iopub.status.idle": "2023-12-31T16:30:00.964665Z",
          "shell.execute_reply": "2023-12-31T16:30:00.963339Z",
          "shell.execute_reply.started": "2023-12-31T16:30:00.128989Z"
        },
        "trusted": true,
        "id": "2wZoNzIauhFL"
      },
      "outputs": [],
      "source": [
        "plt.figure(figsize = (25,8))\n",
        "plt.plot(df_crop.index, df_crop['Fertilizer'],color='red', linestyle='dashed', marker='o',\n",
        "        markersize=12, markerfacecolor='cyan')\n",
        "plt.xlabel('Crops')\n",
        "plt.ylabel('Fertilizer')\n",
        "plt.title(' Use of Fertilizer in different Crops')\n",
        "plt.xticks(rotation=30)\n",
        "plt.show()"
      ]
    },
    {
      "cell_type": "markdown",
      "metadata": {
        "id": "jz7T4g4muhFL"
      },
      "source": [
        "### The amount of Fertilizer used is maximum in Rice Crop\n",
        "### The second crop to use more fertilizer is Wheat crop"
      ]
    },
    {
      "cell_type": "code",
      "execution_count": null,
      "metadata": {
        "execution": {
          "iopub.execute_input": "2023-12-31T16:30:00.966559Z",
          "iopub.status.busy": "2023-12-31T16:30:00.966185Z",
          "iopub.status.idle": "2023-12-31T16:30:01.721344Z",
          "shell.execute_reply": "2023-12-31T16:30:01.719639Z",
          "shell.execute_reply.started": "2023-12-31T16:30:00.966528Z"
        },
        "trusted": true,
        "id": "IcFH9GHYuhFL"
      },
      "outputs": [],
      "source": [
        "plt.figure(figsize = (25,8))\n",
        "plt.plot(df_crop.index, df_crop['Area'],color='indigo', linestyle='dashed', marker='o',\n",
        "        markersize=12, markerfacecolor='fuchsia')\n",
        "plt.xlabel('Crops')\n",
        "plt.ylabel('Area under cultivation')\n",
        "plt.xticks(rotation=30)\n",
        "plt.show()"
      ]
    },
    {
      "cell_type": "markdown",
      "metadata": {
        "id": "X_JPNmM2uhFL"
      },
      "source": [
        "#### Area under cultivation is larger for Rice and Wheat crops"
      ]
    },
    {
      "cell_type": "markdown",
      "metadata": {
        "id": "-yMVybn2uhFM"
      },
      "source": [
        "# Analysis of Wheat crop"
      ]
    },
    {
      "cell_type": "code",
      "execution_count": null,
      "metadata": {
        "execution": {
          "iopub.execute_input": "2023-12-31T16:30:01.724392Z",
          "iopub.status.busy": "2023-12-31T16:30:01.723104Z",
          "iopub.status.idle": "2023-12-31T16:30:01.761832Z",
          "shell.execute_reply": "2023-12-31T16:30:01.76043Z",
          "shell.execute_reply.started": "2023-12-31T16:30:01.724342Z"
        },
        "trusted": true,
        "id": "djuhbFV9uhFM"
      },
      "outputs": [],
      "source": [
        "df_wheat = df[df['Crop']=='Wheat']\n",
        "df_wheat.reset_index(drop=True,inplace=True)\n",
        "df_wheat"
      ]
    },
    {
      "cell_type": "code",
      "execution_count": null,
      "metadata": {
        "execution": {
          "iopub.execute_input": "2023-12-31T16:30:01.763751Z",
          "iopub.status.busy": "2023-12-31T16:30:01.76336Z",
          "iopub.status.idle": "2023-12-31T16:30:01.802586Z",
          "shell.execute_reply": "2023-12-31T16:30:01.801182Z",
          "shell.execute_reply.started": "2023-12-31T16:30:01.763715Z"
        },
        "trusted": true,
        "id": "oXXtTusNuhFM"
      },
      "outputs": [],
      "source": [
        "df_wheat1 = df_wheat[df_wheat['Crop_Year']!=2020]\n",
        "df_wheat_year = df_wheat1.groupby('Crop_Year').sum()\n",
        "df_wheat_year"
      ]
    },
    {
      "cell_type": "code",
      "execution_count": null,
      "metadata": {
        "execution": {
          "iopub.execute_input": "2023-12-31T16:30:01.804473Z",
          "iopub.status.busy": "2023-12-31T16:30:01.804109Z",
          "iopub.status.idle": "2023-12-31T16:30:02.142528Z",
          "shell.execute_reply": "2023-12-31T16:30:02.140886Z",
          "shell.execute_reply.started": "2023-12-31T16:30:01.804442Z"
        },
        "trusted": true,
        "id": "cIaWWabuuhFM"
      },
      "outputs": [],
      "source": [
        "plt.figure(figsize = (12,5))\n",
        "plt.plot(df_wheat_year.index, df_wheat_year['Yield'],color='red', linestyle='dashed', marker='o',\n",
        "        markersize=12, markerfacecolor='blue')\n",
        "plt.xlabel('Year')\n",
        "plt.ylabel('Yield')\n",
        "plt.title('Yield of Wheat Crop over the Years')\n",
        "plt.show()"
      ]
    },
    {
      "cell_type": "markdown",
      "metadata": {
        "id": "q4RY7DiWuhFN"
      },
      "source": [
        "### Checking the co-relation in the dataset using heatmap"
      ]
    },
    {
      "cell_type": "code",
      "execution_count": null,
      "metadata": {
        "id": "E1HqIm8buhFN"
      },
      "outputs": [],
      "source": [
        "# Select only numeric columns for correlation calculation\n",
        "numeric_df = df.select_dtypes(include=['number'])\n",
        "\n",
        "# Compute the correlation matrix\n",
        "corr_matrix = numeric_df.corr()\n",
        "\n",
        "# Plot the heatmap\n",
        "plt.figure(figsize=(10, 6))\n",
        "sns.heatmap(corr_matrix, annot=True, cmap='coolwarm', fmt=\".2f\", linewidths=0.5)\n",
        "\n",
        "# Title\n",
        "plt.title(\"Correlation Heatmap of Features\")\n",
        "plt.show()"
      ]
    },
    {
      "cell_type": "markdown",
      "metadata": {
        "id": "hBJJVqStuhFN"
      },
      "source": [
        "## * From this heatmap, we can clearly see that Fertilizer and Pesticide have a high correlation of 0.95\n",
        "## * Which means they are almost providing the same information to the model.\n",
        "## * Including both can lead to multicollinearity, where the model struggles to decide which one is more   important.\n",
        "## * To handle this, we need to either drop one of them or a regularization if we want to keep them both."
      ]
    },
    {
      "cell_type": "markdown",
      "metadata": {
        "id": "sLuY9RABuhFN"
      },
      "source": [
        "# Modelling"
      ]
    },
    {
      "cell_type": "code",
      "execution_count": null,
      "metadata": {
        "execution": {
          "iopub.execute_input": "2023-12-31T16:30:02.145582Z",
          "iopub.status.busy": "2023-12-31T16:30:02.144701Z",
          "iopub.status.idle": "2023-12-31T16:30:02.157808Z",
          "shell.execute_reply": "2023-12-31T16:30:02.155954Z",
          "shell.execute_reply.started": "2023-12-31T16:30:02.145527Z"
        },
        "trusted": true,
        "id": "8F-JVWgauhFN"
      },
      "outputs": [],
      "source": [
        "df1 = df.copy()\n",
        "df1 = df1.drop(['Crop_Year','Pesticide'], axis = 1)"
      ]
    },
    {
      "cell_type": "markdown",
      "metadata": {
        "id": "okjoPo-muhFO"
      },
      "source": [
        "## Checking Ridge and Lasso Performance"
      ]
    },
    {
      "cell_type": "code",
      "execution_count": null,
      "metadata": {
        "id": "q_YeJEFwuhFO"
      },
      "outputs": [],
      "source": [
        "#Checking Ridge and Lasso Performance"
      ]
    },
    {
      "cell_type": "code",
      "execution_count": null,
      "metadata": {
        "id": "LBHwHL4FuhFO"
      },
      "outputs": [],
      "source": [
        "from sklearn.model_selection import train_test_split\n",
        "from sklearn.preprocessing import PowerTransformer\n",
        "\n",
        "df2 = df.copy()\n"
      ]
    },
    {
      "cell_type": "code",
      "execution_count": null,
      "metadata": {
        "id": "UXfQK4n3uhFO"
      },
      "outputs": [],
      "source": [
        "# One-Hot Encoding for Categorical Variables\n",
        "category_columns = df2.select_dtypes(include=['object']).columns  # Identify categorical columns\n",
        "df2 = pd.get_dummies(df2, columns=category_columns, drop_first=True)  # Apply encoding"
      ]
    },
    {
      "cell_type": "code",
      "execution_count": null,
      "metadata": {
        "id": "IVv5lGaSuhFO"
      },
      "outputs": [],
      "source": [
        "df2.head()"
      ]
    },
    {
      "cell_type": "code",
      "execution_count": null,
      "metadata": {
        "id": "9zFlHxk8uhFP"
      },
      "outputs": [],
      "source": [
        "# Define Features (X) and Target (y)\n",
        "X2 = df2.drop(['Yield'], axis=1)\n",
        "y2 = df2['Yield']"
      ]
    },
    {
      "cell_type": "code",
      "execution_count": null,
      "metadata": {
        "id": "YM9XLdunuhFP"
      },
      "outputs": [],
      "source": [
        "# Split the data into training and testing sets\n",
        "X_train2, X_test2, y_train2, y_test2 = train_test_split(X2, y2, test_size=0.2, random_state=42)\n"
      ]
    },
    {
      "cell_type": "code",
      "execution_count": null,
      "metadata": {
        "id": "Ef-HA4DyuhFQ"
      },
      "outputs": [],
      "source": [
        " #Display the shapes of training and testing sets\n",
        "print(f\"X_train shape: {X_train2.shape}, X_test shape: {X_test2.shape}\")\n",
        "print(f\"y_train shape: {y_train2.shape}, y_test shape: {y_test2.shape}\")"
      ]
    },
    {
      "cell_type": "code",
      "execution_count": null,
      "metadata": {
        "id": "8RuKhQLMuhFQ"
      },
      "outputs": [],
      "source": [
        "# Apply Power Transformation (Yeo-Johnson method)\n",
        "pt = PowerTransformer(method='yeo-johnson')\n",
        "X_train_transformed2 = pt.fit_transform(X_train2)\n",
        "X_test_transformed2 = pt.transform(X_test2)"
      ]
    },
    {
      "cell_type": "code",
      "execution_count": null,
      "metadata": {
        "id": "B7exsoczuhFQ"
      },
      "outputs": [],
      "source": [
        "from sklearn.linear_model import Ridge, Lasso\n",
        "from sklearn.metrics import mean_squared_error, r2_score\n",
        "\n",
        "# Apply Ridge Regression\n",
        "ridge = Ridge(alpha=1.0)  # You can tune alpha to see the effect\n",
        "ridge.fit(X_train_transformed2, y_train2)"
      ]
    },
    {
      "cell_type": "code",
      "execution_count": null,
      "metadata": {
        "id": "6TuCt2MsuhFR"
      },
      "outputs": [],
      "source": [
        "# Predictions using Ridge\n",
        "ridge_pred = ridge.predict(X_test_transformed2)"
      ]
    },
    {
      "cell_type": "code",
      "execution_count": null,
      "metadata": {
        "id": "8ysl2_vcuhFR"
      },
      "outputs": [],
      "source": [
        "# Ridge Evaluation\n",
        "ridge_mse = mean_squared_error(y_test2, ridge_pred)\n",
        "ridge_r2 = r2_score(y_test2, ridge_pred)\n",
        "print(f\"Ridge Regression - MSE: {ridge_mse:.4f}, R2 Score: {ridge_r2:.4f}\")"
      ]
    },
    {
      "cell_type": "code",
      "execution_count": null,
      "metadata": {
        "id": "vxBbuZ5euhFR"
      },
      "outputs": [],
      "source": [
        "# Apply Lasso Regression\n",
        "lasso = Lasso(alpha=0.01)\n",
        "lasso.fit(X_train_transformed2, y_train2)"
      ]
    },
    {
      "cell_type": "code",
      "execution_count": null,
      "metadata": {
        "id": "782U1cM0uhFS"
      },
      "outputs": [],
      "source": [
        "# Predictions using Lasso\n",
        "lasso_pred = lasso.predict(X_test_transformed2)"
      ]
    },
    {
      "cell_type": "code",
      "execution_count": null,
      "metadata": {
        "id": "W2uYmM2ouhFS"
      },
      "outputs": [],
      "source": [
        "# Lasso Evaluation\n",
        "lasso_mse = mean_squared_error(y_test2, lasso_pred)\n",
        "lasso_r2 = r2_score(y_test2, lasso_pred)\n",
        "print(f\"Lasso Regression - MSE: {lasso_mse:.4f}, R2 Score: {lasso_r2:.4f}\")"
      ]
    },
    {
      "cell_type": "code",
      "execution_count": null,
      "metadata": {
        "id": "H3W17tlbuhFS"
      },
      "outputs": [],
      "source": [
        "# Comparing Coefficients\n",
        "print(\"Ridge Coefficients:\")\n",
        "print(pd.Series(ridge.coef_[0], index=X_train2.columns))"
      ]
    },
    {
      "cell_type": "code",
      "execution_count": null,
      "metadata": {
        "id": "n53H1P1iuhFS"
      },
      "outputs": [],
      "source": [
        "alphas = [0.1, 0.5, 1.0, 2.0, 5.0]\n",
        "for alpha in alphas:\n",
        "    ridge = Ridge(alpha=alpha)\n",
        "    ridge.fit(X_train_transformed2, y_train2)\n",
        "\n",
        "    # Predictions\n",
        "    y_pred = ridge.predict(X_test_transformed2)\n",
        "\n",
        "    # Metrics\n",
        "    mse = mean_squared_error(y_test2, y_pred)\n",
        "    r2 = r2_score(y_test2, y_pred)\n",
        "\n",
        "    print(f\"Alpha: {alpha}\")\n",
        "    print(f\"Ridge Regression - MSE: {mse:.4f}, R2 Score: {r2:.4f}\")\n",
        "    #print(f\"Ridge Coefficients: {ridge.coef_}\")\n",
        "    print(\"Ridge Coefficients:\")\n",
        "    print(pd.Series(ridge.coef_[0], index=X_train2.columns))\n",
        "    print(\"\\n\")"
      ]
    },
    {
      "cell_type": "code",
      "execution_count": null,
      "metadata": {
        "id": "BOxSVopQuhFT"
      },
      "outputs": [],
      "source": [
        "print(\"\\nLasso Coefficients:\")\n",
        "print(pd.Series(lasso.coef_, index=X_train2.columns))"
      ]
    },
    {
      "cell_type": "code",
      "execution_count": null,
      "metadata": {
        "execution": {
          "iopub.execute_input": "2023-12-31T16:30:02.160041Z",
          "iopub.status.busy": "2023-12-31T16:30:02.159611Z",
          "iopub.status.idle": "2023-12-31T16:30:03.846337Z",
          "shell.execute_reply": "2023-12-31T16:30:03.844868Z",
          "shell.execute_reply.started": "2023-12-31T16:30:02.160001Z"
        },
        "trusted": true,
        "id": "tN5fqFfjuhFT"
      },
      "outputs": [],
      "source": [
        "# To check the distribution of dataset\n",
        "plt.figure(figsize=(15,20))\n",
        "plt.subplot(4,2,1)\n",
        "sns.distplot(df1['Area'],bins = 20,color = 'red')\n",
        "plt.subplot(4,2,2)\n",
        "sns.distplot(df1['Production'],bins = 10,color = 'green')\n",
        "plt.subplot(4,2,3)\n",
        "sns.distplot(df1['Annual_Rainfall'],bins = 10,color = 'blue')\n",
        "plt.subplot(4,2,4)\n",
        "sns.distplot(df1['Fertilizer'],bins = 10, color = 'black')\n",
        "plt.show()"
      ]
    },
    {
      "cell_type": "code",
      "execution_count": null,
      "metadata": {
        "execution": {
          "iopub.execute_input": "2023-12-31T16:30:03.848106Z",
          "iopub.status.busy": "2023-12-31T16:30:03.847715Z",
          "iopub.status.idle": "2023-12-31T16:30:05.249222Z",
          "shell.execute_reply": "2023-12-31T16:30:05.24782Z",
          "shell.execute_reply.started": "2023-12-31T16:30:03.848072Z"
        },
        "trusted": true,
        "id": "z1TVwyg5uhFT"
      },
      "outputs": [],
      "source": [
        "# Q-Q plot of the dataset\n",
        "import scipy.stats as stats\n",
        "\n",
        "plt.figure(figsize=(15,20))\n",
        "plt.subplot(4,2,1)\n",
        "stats.probplot(df1['Area'], dist = 'norm', plot = plt)\n",
        "plt.subplot(4,2,2)\n",
        "stats.probplot(df1['Production'], dist = 'norm', plot = plt)\n",
        "plt.subplot(4,2,3)\n",
        "stats.probplot(df1['Annual_Rainfall'], dist = 'norm', plot = plt)\n",
        "plt.subplot(4,2,4)\n",
        "stats.probplot(df1['Fertilizer'], dist = 'norm', plot = plt)\n",
        "plt.show()"
      ]
    },
    {
      "cell_type": "markdown",
      "metadata": {
        "id": "Qe7ezNfhuhFU"
      },
      "source": [
        "### Data distribution have right skewness - to remove skewness using transformation approach\n",
        "The algorithm is more likely to be biased when the data distribution is skewed"
      ]
    },
    {
      "cell_type": "markdown",
      "metadata": {
        "id": "ul7xNsUmuhFU"
      },
      "source": [
        "# One-Hot Encoding"
      ]
    },
    {
      "cell_type": "code",
      "execution_count": null,
      "metadata": {
        "execution": {
          "iopub.execute_input": "2023-12-31T16:30:05.251274Z",
          "iopub.status.busy": "2023-12-31T16:30:05.250829Z",
          "iopub.status.idle": "2023-12-31T16:30:05.261135Z",
          "shell.execute_reply": "2023-12-31T16:30:05.259359Z",
          "shell.execute_reply.started": "2023-12-31T16:30:05.251238Z"
        },
        "trusted": true,
        "id": "5zt-f26yuhFU"
      },
      "outputs": [],
      "source": [
        "category_columns = df1.select_dtypes(include = ['object']).columns\n",
        "category_columns"
      ]
    },
    {
      "cell_type": "code",
      "execution_count": null,
      "metadata": {
        "execution": {
          "iopub.execute_input": "2023-12-31T16:30:05.264722Z",
          "iopub.status.busy": "2023-12-31T16:30:05.264228Z",
          "iopub.status.idle": "2023-12-31T16:30:05.298491Z",
          "shell.execute_reply": "2023-12-31T16:30:05.296944Z",
          "shell.execute_reply.started": "2023-12-31T16:30:05.264669Z"
        },
        "trusted": true,
        "id": "Ot86TA0_uhFV"
      },
      "outputs": [],
      "source": [
        "df1 = pd.get_dummies(df1, columns = category_columns, drop_first=True)"
      ]
    },
    {
      "cell_type": "code",
      "execution_count": null,
      "metadata": {
        "execution": {
          "iopub.execute_input": "2023-12-31T16:30:05.300762Z",
          "iopub.status.busy": "2023-12-31T16:30:05.30027Z",
          "iopub.status.idle": "2023-12-31T16:30:05.309333Z",
          "shell.execute_reply": "2023-12-31T16:30:05.307729Z",
          "shell.execute_reply.started": "2023-12-31T16:30:05.300726Z"
        },
        "trusted": true,
        "id": "KoATmHVmuhFV"
      },
      "outputs": [],
      "source": [
        "df1.shape"
      ]
    },
    {
      "cell_type": "code",
      "execution_count": null,
      "metadata": {
        "execution": {
          "iopub.execute_input": "2023-12-31T16:30:05.311432Z",
          "iopub.status.busy": "2023-12-31T16:30:05.311002Z",
          "iopub.status.idle": "2023-12-31T16:30:05.340554Z",
          "shell.execute_reply": "2023-12-31T16:30:05.339306Z",
          "shell.execute_reply.started": "2023-12-31T16:30:05.311399Z"
        },
        "trusted": true,
        "id": "lHrPRL5SuhFV"
      },
      "outputs": [],
      "source": [
        "df1.head()"
      ]
    },
    {
      "cell_type": "markdown",
      "metadata": {
        "id": "oRtEhhRwuhFV"
      },
      "source": [
        "### Split the data into dependent and independent variable"
      ]
    },
    {
      "cell_type": "code",
      "execution_count": null,
      "metadata": {
        "execution": {
          "iopub.execute_input": "2023-12-31T16:30:05.343225Z",
          "iopub.status.busy": "2023-12-31T16:30:05.342047Z",
          "iopub.status.idle": "2023-12-31T16:30:05.355254Z",
          "shell.execute_reply": "2023-12-31T16:30:05.35401Z",
          "shell.execute_reply.started": "2023-12-31T16:30:05.343179Z"
        },
        "trusted": true,
        "id": "QUEkQxXUuhFV"
      },
      "outputs": [],
      "source": [
        "x = df1.drop(['Yield'], axis = 1)\n",
        "y = df1[['Yield']]"
      ]
    },
    {
      "cell_type": "code",
      "execution_count": null,
      "metadata": {
        "execution": {
          "iopub.execute_input": "2023-12-31T16:30:05.357358Z",
          "iopub.status.busy": "2023-12-31T16:30:05.356863Z",
          "iopub.status.idle": "2023-12-31T16:30:05.371052Z",
          "shell.execute_reply": "2023-12-31T16:30:05.36967Z",
          "shell.execute_reply.started": "2023-12-31T16:30:05.357313Z"
        },
        "trusted": true,
        "id": "jA_opSOXuhFW"
      },
      "outputs": [],
      "source": [
        "print(x.shape)\n",
        "y.shape"
      ]
    },
    {
      "cell_type": "code",
      "execution_count": null,
      "metadata": {
        "execution": {
          "iopub.execute_input": "2023-12-31T16:30:05.37363Z",
          "iopub.status.busy": "2023-12-31T16:30:05.372728Z",
          "iopub.status.idle": "2023-12-31T16:30:05.404781Z",
          "shell.execute_reply": "2023-12-31T16:30:05.403838Z",
          "shell.execute_reply.started": "2023-12-31T16:30:05.373585Z"
        },
        "trusted": true,
        "id": "QutyxB8duhFW"
      },
      "outputs": [],
      "source": [
        "x.head()"
      ]
    },
    {
      "cell_type": "code",
      "execution_count": null,
      "metadata": {
        "execution": {
          "iopub.execute_input": "2023-12-31T16:30:05.406956Z",
          "iopub.status.busy": "2023-12-31T16:30:05.406567Z",
          "iopub.status.idle": "2023-12-31T16:30:05.417817Z",
          "shell.execute_reply": "2023-12-31T16:30:05.416444Z",
          "shell.execute_reply.started": "2023-12-31T16:30:05.406922Z"
        },
        "trusted": true,
        "id": "vV-wwBT2uhFW"
      },
      "outputs": [],
      "source": [
        "y.head()"
      ]
    },
    {
      "cell_type": "markdown",
      "metadata": {
        "id": "5172LfnluhFW"
      },
      "source": [
        "### Splitting  the data set into train and test set"
      ]
    },
    {
      "cell_type": "code",
      "execution_count": null,
      "metadata": {
        "execution": {
          "iopub.execute_input": "2023-12-31T16:30:05.420636Z",
          "iopub.status.busy": "2023-12-31T16:30:05.419473Z",
          "iopub.status.idle": "2023-12-31T16:30:05.635468Z",
          "shell.execute_reply": "2023-12-31T16:30:05.634183Z",
          "shell.execute_reply.started": "2023-12-31T16:30:05.420595Z"
        },
        "trusted": true,
        "id": "lOykvdcwuhFW"
      },
      "outputs": [],
      "source": [
        "#split the data into training and test set\n",
        "from sklearn.model_selection import train_test_split\n",
        "x_train, x_test, y_train,y_test = train_test_split(x, y, test_size = 0.2, random_state = 42)"
      ]
    },
    {
      "cell_type": "code",
      "execution_count": null,
      "metadata": {
        "execution": {
          "iopub.execute_input": "2023-12-31T16:30:05.637512Z",
          "iopub.status.busy": "2023-12-31T16:30:05.637136Z",
          "iopub.status.idle": "2023-12-31T16:30:05.646328Z",
          "shell.execute_reply": "2023-12-31T16:30:05.644823Z",
          "shell.execute_reply.started": "2023-12-31T16:30:05.637478Z"
        },
        "trusted": true,
        "id": "c7UqPczouhFX"
      },
      "outputs": [],
      "source": [
        "x_train.shape, x_test.shape, y_train.shape,y_test.shape"
      ]
    },
    {
      "cell_type": "markdown",
      "metadata": {
        "id": "11-8PsSIuhFX"
      },
      "source": [
        "# Power Transformation using the method 'Yeo-Johnson'"
      ]
    },
    {
      "cell_type": "code",
      "execution_count": null,
      "metadata": {
        "execution": {
          "iopub.execute_input": "2023-12-31T16:30:05.648097Z",
          "iopub.status.busy": "2023-12-31T16:30:05.647678Z",
          "iopub.status.idle": "2023-12-31T16:30:08.049436Z",
          "shell.execute_reply": "2023-12-31T16:30:08.047962Z",
          "shell.execute_reply.started": "2023-12-31T16:30:05.648048Z"
        },
        "trusted": true,
        "id": "BbxhigNHuhFX"
      },
      "outputs": [],
      "source": [
        "from sklearn.preprocessing import PowerTransformer\n",
        "pt = PowerTransformer(method='yeo-johnson')\n",
        "\n",
        "x_train_transform1 = pt.fit_transform(x_train)\n",
        "x_test_transform1 = pt.fit_transform(x_test)"
      ]
    },
    {
      "cell_type": "code",
      "execution_count": null,
      "metadata": {
        "id": "xZG8v3OGuhFX"
      },
      "outputs": [],
      "source": [
        "print(pt.lambdas_)"
      ]
    },
    {
      "cell_type": "code",
      "execution_count": null,
      "metadata": {
        "execution": {
          "iopub.execute_input": "2023-12-31T16:30:08.05122Z",
          "iopub.status.busy": "2023-12-31T16:30:08.050849Z",
          "iopub.status.idle": "2023-12-31T16:30:08.082469Z",
          "shell.execute_reply": "2023-12-31T16:30:08.081296Z",
          "shell.execute_reply.started": "2023-12-31T16:30:08.051181Z"
        },
        "trusted": true,
        "id": "4wPwKgFuuhFY"
      },
      "outputs": [],
      "source": [
        "df_trans = pd.DataFrame(x_train_transform1, columns=x_train.columns)\n",
        "df_trans.head()"
      ]
    },
    {
      "cell_type": "markdown",
      "metadata": {
        "id": "P1zeA96FuhFY"
      },
      "source": [
        "## After Transformation, there is no need for Standardization of the data"
      ]
    },
    {
      "cell_type": "code",
      "execution_count": null,
      "metadata": {
        "execution": {
          "iopub.execute_input": "2023-12-31T16:30:08.08456Z",
          "iopub.status.busy": "2023-12-31T16:30:08.084088Z",
          "iopub.status.idle": "2023-12-31T16:30:09.691203Z",
          "shell.execute_reply": "2023-12-31T16:30:09.690341Z",
          "shell.execute_reply.started": "2023-12-31T16:30:08.084516Z"
        },
        "trusted": true,
        "id": "0GVNN4GruhFY"
      },
      "outputs": [],
      "source": [
        "plt.figure(figsize=(15,20))\n",
        "plt.subplot(4,2,1)\n",
        "sns.distplot(df_trans['Area'],bins = 20,color = 'red')\n",
        "plt.subplot(4,2,2)\n",
        "sns.distplot(df_trans['Production'],bins = 10,color = 'green')\n",
        "plt.subplot(4,2,3)\n",
        "sns.distplot(df_trans['Annual_Rainfall'],bins = 10,color = 'fuchsia')\n",
        "plt.subplot(4,2,4)\n",
        "sns.distplot(df_trans['Fertilizer'],bins = 10, color = 'indigo')\n",
        "\n",
        "plt.show()"
      ]
    },
    {
      "cell_type": "markdown",
      "metadata": {
        "id": "qLN5-xMKuhFY"
      },
      "source": [
        "## Viewing the Q-Q Plot after the Transformation"
      ]
    },
    {
      "cell_type": "code",
      "execution_count": null,
      "metadata": {
        "execution": {
          "iopub.execute_input": "2023-12-31T16:30:09.693529Z",
          "iopub.status.busy": "2023-12-31T16:30:09.692437Z",
          "iopub.status.idle": "2023-12-31T16:30:10.916321Z",
          "shell.execute_reply": "2023-12-31T16:30:10.915Z",
          "shell.execute_reply.started": "2023-12-31T16:30:09.693493Z"
        },
        "trusted": true,
        "id": "CpPbHFCXuhFZ"
      },
      "outputs": [],
      "source": [
        "plt.figure(figsize=(15,20))\n",
        "plt.subplot(4,2,1)\n",
        "stats.probplot(df_trans['Area'], dist = 'norm', plot = plt)\n",
        "plt.subplot(4,2,2)\n",
        "stats.probplot(df_trans['Production'], dist = 'norm', plot = plt)\n",
        "plt.subplot(4,2,3)\n",
        "stats.probplot(df_trans['Annual_Rainfall'], dist = 'norm', plot = plt)\n",
        "plt.subplot(4,2,4)\n",
        "stats.probplot(df_trans['Fertilizer'], dist = 'norm', plot = plt)\n",
        "\n",
        "plt.show()"
      ]
    },
    {
      "cell_type": "markdown",
      "metadata": {
        "id": "oWOmOZaEuhFZ"
      },
      "source": [
        "# Linear Regression with skewed data"
      ]
    },
    {
      "cell_type": "code",
      "execution_count": null,
      "metadata": {
        "execution": {
          "iopub.execute_input": "2023-12-31T16:30:10.917991Z",
          "iopub.status.busy": "2023-12-31T16:30:10.917613Z",
          "iopub.status.idle": "2023-12-31T16:30:11.205836Z",
          "shell.execute_reply": "2023-12-31T16:30:11.203847Z",
          "shell.execute_reply.started": "2023-12-31T16:30:10.91796Z"
        },
        "trusted": true,
        "id": "7JxD2Y6euhFZ"
      },
      "outputs": [],
      "source": [
        "from sklearn.linear_model import LinearRegression\n",
        "from sklearn.metrics import r2_score\n",
        "\n",
        "lr = LinearRegression()\n",
        "lr.fit(x_train,y_train)\n",
        "\n",
        "y_pred_train = lr.predict(x_train)\n",
        "print(\"Training Accuracy : \",r2_score(y_train,y_pred_train))\n",
        "\n",
        "y_pred_test = lr.predict(x_test)\n",
        "print(\"Test Accuracy : \",r2_score(y_test,y_pred_test))"
      ]
    },
    {
      "cell_type": "code",
      "execution_count": null,
      "metadata": {
        "execution": {
          "iopub.execute_input": "2023-12-31T16:30:11.219979Z",
          "iopub.status.busy": "2023-12-31T16:30:11.214925Z",
          "iopub.status.idle": "2023-12-31T16:30:11.23319Z",
          "shell.execute_reply": "2023-12-31T16:30:11.231038Z",
          "shell.execute_reply.started": "2023-12-31T16:30:11.219882Z"
        },
        "trusted": true,
        "id": "xwLKplpJuhFZ"
      },
      "outputs": [],
      "source": [
        "# to store performance values value\n",
        "train_accu = []  # Stores training results as (R², MSE)\n",
        "test_accu = []   # Stores testing results as (R², MSE)"
      ]
    },
    {
      "cell_type": "markdown",
      "metadata": {
        "id": "nFsm2RjfuhFa"
      },
      "source": [
        "##  Linear Regression with Transformation Approach"
      ]
    },
    {
      "cell_type": "code",
      "execution_count": null,
      "metadata": {
        "execution": {
          "iopub.execute_input": "2023-12-31T16:30:11.242173Z",
          "iopub.status.busy": "2023-12-31T16:30:11.240058Z",
          "iopub.status.idle": "2023-12-31T16:30:11.397438Z",
          "shell.execute_reply": "2023-12-31T16:30:11.395852Z",
          "shell.execute_reply.started": "2023-12-31T16:30:11.242094Z"
        },
        "trusted": true,
        "id": "4Sm5YjjOuhFa"
      },
      "outputs": [],
      "source": [
        "lr.fit(x_train_transform1, y_train)\n",
        "\n",
        "y_pred_train_ = lr.predict(x_train_transform1)\n",
        "y_pred_test_ = lr.predict(x_test_transform1)\n",
        "\n",
        "# Calculating MSE for training and test sets\n",
        "mse_train_lr = mean_squared_error(y_train, y_pred_train_)\n",
        "mse_test_lr = mean_squared_error(y_test, y_pred_test_)\n",
        "\n",
        "print(\"Training Accuracy : \",r2_score(y_train, y_pred_train_))\n",
        "print()\n",
        "print(\"Test Accuracy : \",r2_score(y_test, y_pred_test_))\n",
        "print(\"Training MSE: \", mse_train_lr)\n",
        "print(\"Test MSE: \", mse_test_lr)\n",
        "\n",
        "#train_accu.append(r2_score(y_train,y_pred_train_))\n",
        "#test_accu.append(r2_score(y_test,y_pred_test_))\n",
        "\n",
        "\n",
        "# Storing results as (R², MSE) tuples\n",
        "train_accu.append((r2_score(y_train, y_pred_train_), mse_train_lr))\n",
        "test_accu.append((r2_score(y_test, y_pred_test_), mse_test_lr))"
      ]
    },
    {
      "cell_type": "code",
      "execution_count": null,
      "metadata": {
        "id": "cHd4up-puhFa"
      },
      "outputs": [],
      "source": []
    },
    {
      "cell_type": "markdown",
      "metadata": {
        "id": "hLxWmvP9uhFb"
      },
      "source": [
        "## Test Accuracy has improved after 'Yeo-Johnson' Transformation"
      ]
    },
    {
      "cell_type": "markdown",
      "metadata": {
        "id": "l7FYBuHquhFb"
      },
      "source": [
        "### Here it is showing no case of overfitting or underfitting"
      ]
    },
    {
      "cell_type": "markdown",
      "metadata": {
        "id": "ZgWXf5rMuhFb"
      },
      "source": [
        "## Variance Inflation Factor"
      ]
    },
    {
      "cell_type": "code",
      "execution_count": null,
      "metadata": {
        "execution": {
          "iopub.execute_input": "2023-12-31T16:30:11.40033Z",
          "iopub.status.busy": "2023-12-31T16:30:11.399435Z",
          "iopub.status.idle": "2023-12-31T16:30:11.417129Z",
          "shell.execute_reply": "2023-12-31T16:30:11.414718Z",
          "shell.execute_reply.started": "2023-12-31T16:30:11.400286Z"
        },
        "trusted": true,
        "id": "9TPQvpYsuhFb"
      },
      "outputs": [],
      "source": [
        "x1 = df_trans.copy()"
      ]
    },
    {
      "cell_type": "code",
      "execution_count": null,
      "metadata": {
        "execution": {
          "iopub.execute_input": "2023-12-31T16:30:11.422018Z",
          "iopub.status.busy": "2023-12-31T16:30:11.419884Z",
          "iopub.status.idle": "2023-12-31T16:30:35.678855Z",
          "shell.execute_reply": "2023-12-31T16:30:35.677199Z",
          "shell.execute_reply.started": "2023-12-31T16:30:11.421962Z"
        },
        "trusted": true,
        "id": "BU9sCCZMuhFc"
      },
      "outputs": [],
      "source": [
        "from statsmodels.stats.outliers_influence import variance_inflation_factor\n",
        "\n",
        "variable = x1\n",
        "\n",
        "vif = pd.DataFrame()\n",
        "\n",
        "vif['Variance Inflation Factor'] = [variance_inflation_factor(variable, i)\n",
        "                                    for i in range(variable.shape[1])]\n",
        "\n",
        "vif['Features'] = x1.columns"
      ]
    },
    {
      "cell_type": "code",
      "execution_count": null,
      "metadata": {
        "execution": {
          "iopub.execute_input": "2023-12-31T16:30:35.68261Z",
          "iopub.status.busy": "2023-12-31T16:30:35.681413Z",
          "iopub.status.idle": "2023-12-31T16:30:35.706597Z",
          "shell.execute_reply": "2023-12-31T16:30:35.70506Z",
          "shell.execute_reply.started": "2023-12-31T16:30:35.682539Z"
        },
        "trusted": true,
        "id": "GRDvvySOuhFc"
      },
      "outputs": [],
      "source": [
        "vif"
      ]
    },
    {
      "cell_type": "markdown",
      "metadata": {
        "id": "gc33fhkKuhFd"
      },
      "source": [
        "VIF of the independent columns should be less than 5 to remove multicollinearity"
      ]
    },
    {
      "cell_type": "code",
      "execution_count": null,
      "metadata": {
        "execution": {
          "iopub.execute_input": "2023-12-31T16:30:35.710316Z",
          "iopub.status.busy": "2023-12-31T16:30:35.709127Z",
          "iopub.status.idle": "2023-12-31T16:30:35.722121Z",
          "shell.execute_reply": "2023-12-31T16:30:35.720208Z",
          "shell.execute_reply.started": "2023-12-31T16:30:35.710252Z"
        },
        "trusted": true,
        "id": "jzOt78PPuhFd"
      },
      "outputs": [],
      "source": [
        "x2 = x1.copy()"
      ]
    },
    {
      "cell_type": "code",
      "execution_count": null,
      "metadata": {
        "execution": {
          "iopub.execute_input": "2023-12-31T16:30:35.726491Z",
          "iopub.status.busy": "2023-12-31T16:30:35.725273Z",
          "iopub.status.idle": "2023-12-31T16:30:35.73935Z",
          "shell.execute_reply": "2023-12-31T16:30:35.737605Z",
          "shell.execute_reply.started": "2023-12-31T16:30:35.726426Z"
        },
        "trusted": true,
        "id": "-DmLhCNquhFd"
      },
      "outputs": [],
      "source": [
        "x2.drop(['Area'], axis = 1, inplace=True)"
      ]
    },
    {
      "cell_type": "code",
      "execution_count": null,
      "metadata": {
        "execution": {
          "iopub.execute_input": "2023-12-31T16:30:35.743425Z",
          "iopub.status.busy": "2023-12-31T16:30:35.742074Z",
          "iopub.status.idle": "2023-12-31T16:30:59.267237Z",
          "shell.execute_reply": "2023-12-31T16:30:59.265045Z",
          "shell.execute_reply.started": "2023-12-31T16:30:35.743362Z"
        },
        "trusted": true,
        "id": "BJt0DMFLuhFd"
      },
      "outputs": [],
      "source": [
        "from statsmodels.stats.outliers_influence import variance_inflation_factor\n",
        "\n",
        "variable = x2\n",
        "\n",
        "vif = pd.DataFrame()\n",
        "\n",
        "vif['Variance Inflation Factor'] = [variance_inflation_factor(variable, i)\n",
        "                                    for i in range(variable.shape[1])]\n",
        "\n",
        "vif['Features'] = x2.columns"
      ]
    },
    {
      "cell_type": "code",
      "execution_count": null,
      "metadata": {
        "execution": {
          "iopub.execute_input": "2023-12-31T16:30:59.28417Z",
          "iopub.status.busy": "2023-12-31T16:30:59.277972Z",
          "iopub.status.idle": "2023-12-31T16:30:59.333034Z",
          "shell.execute_reply": "2023-12-31T16:30:59.330988Z",
          "shell.execute_reply.started": "2023-12-31T16:30:59.284086Z"
        },
        "trusted": true,
        "id": "XYG7JI8TuhFd"
      },
      "outputs": [],
      "source": [
        "vif"
      ]
    },
    {
      "cell_type": "code",
      "execution_count": null,
      "metadata": {
        "execution": {
          "iopub.execute_input": "2023-12-31T16:30:59.356109Z",
          "iopub.status.busy": "2023-12-31T16:30:59.342793Z",
          "iopub.status.idle": "2023-12-31T16:30:59.384378Z",
          "shell.execute_reply": "2023-12-31T16:30:59.382854Z",
          "shell.execute_reply.started": "2023-12-31T16:30:59.356013Z"
        },
        "trusted": true,
        "id": "NP_YlwZruhFe"
      },
      "outputs": [],
      "source": [
        "x2.drop(['Production'], axis = 1, inplace=True)"
      ]
    },
    {
      "cell_type": "code",
      "execution_count": null,
      "metadata": {
        "execution": {
          "iopub.execute_input": "2023-12-31T16:30:59.391222Z",
          "iopub.status.busy": "2023-12-31T16:30:59.388945Z",
          "iopub.status.idle": "2023-12-31T16:31:27.340666Z",
          "shell.execute_reply": "2023-12-31T16:31:27.338742Z",
          "shell.execute_reply.started": "2023-12-31T16:30:59.391182Z"
        },
        "trusted": true,
        "id": "e17KCqbtuhFe"
      },
      "outputs": [],
      "source": [
        "from statsmodels.stats.outliers_influence import variance_inflation_factor\n",
        "\n",
        "variable = x2\n",
        "\n",
        "vif = pd.DataFrame()\n",
        "\n",
        "vif['Variance Inflation Factor'] = [variance_inflation_factor(variable, i)\n",
        "                                    for i in range(variable.shape[1])]\n",
        "\n",
        "vif['Features'] = x2.columns"
      ]
    },
    {
      "cell_type": "code",
      "execution_count": null,
      "metadata": {
        "execution": {
          "iopub.execute_input": "2023-12-31T16:31:27.34289Z",
          "iopub.status.busy": "2023-12-31T16:31:27.342449Z",
          "iopub.status.idle": "2023-12-31T16:31:27.376941Z",
          "shell.execute_reply": "2023-12-31T16:31:27.375137Z",
          "shell.execute_reply.started": "2023-12-31T16:31:27.34285Z"
        },
        "trusted": true,
        "id": "6a9wRnM8uhFe"
      },
      "outputs": [],
      "source": [
        "vif"
      ]
    },
    {
      "cell_type": "code",
      "execution_count": null,
      "metadata": {
        "execution": {
          "iopub.execute_input": "2023-12-31T16:31:27.379143Z",
          "iopub.status.busy": "2023-12-31T16:31:27.378669Z",
          "iopub.status.idle": "2023-12-31T16:31:27.430125Z",
          "shell.execute_reply": "2023-12-31T16:31:27.428934Z",
          "shell.execute_reply.started": "2023-12-31T16:31:27.379094Z"
        },
        "trusted": true,
        "id": "EdnLW9mcuhFf"
      },
      "outputs": [],
      "source": [
        "x2.head()"
      ]
    },
    {
      "cell_type": "code",
      "execution_count": null,
      "metadata": {
        "execution": {
          "iopub.execute_input": "2023-12-31T16:31:27.432637Z",
          "iopub.status.busy": "2023-12-31T16:31:27.43187Z",
          "iopub.status.idle": "2023-12-31T16:31:27.445996Z",
          "shell.execute_reply": "2023-12-31T16:31:27.444029Z",
          "shell.execute_reply.started": "2023-12-31T16:31:27.43258Z"
        },
        "trusted": true,
        "id": "DCiMchHAuhFg"
      },
      "outputs": [],
      "source": [
        "x_test1 = pd.DataFrame(x_test_transform1, columns=x_test.columns)\n",
        "x_test1.drop(['Area','Production'], axis = 1, inplace = True)"
      ]
    },
    {
      "cell_type": "code",
      "execution_count": null,
      "metadata": {
        "execution": {
          "iopub.execute_input": "2023-12-31T16:31:27.454443Z",
          "iopub.status.busy": "2023-12-31T16:31:27.453627Z",
          "iopub.status.idle": "2023-12-31T16:31:27.605808Z",
          "shell.execute_reply": "2023-12-31T16:31:27.603886Z",
          "shell.execute_reply.started": "2023-12-31T16:31:27.454378Z"
        },
        "trusted": true,
        "id": "Vz79cNFEuhFg"
      },
      "outputs": [],
      "source": [
        "# After applying vif\n",
        "lr.fit(x2, y_train)\n",
        "\n",
        "y_pred_train_ = lr.predict(x2)\n",
        "y_pred_test_ = lr.predict(x_test1)\n",
        "\n",
        "# Calculating MSE for training and test sets\n",
        "mse_train_lr = mean_squared_error(y_train, y_pred_train_)\n",
        "mse_test_lr = mean_squared_error(y_test, y_pred_test_)\n",
        "\n",
        "print(\"Training Accuracy : \",r2_score(y_train, y_pred_train_))\n",
        "print()\n",
        "print(\"Test Accuracy : \",r2_score(y_test, y_pred_test_))\n",
        "print(\"Training MSE: \", mse_train_lr)\n",
        "print(\"Test MSE: \", mse_test_lr)\n",
        "\n",
        "#train_accu.append(r2_score(y_train,y_pred_train_))\n",
        "#test_accu.append(r2_score(y_test,y_pred_test_))\n",
        "\n",
        "# Storing results as (R², MSE) tuples\n",
        "train_accu.append((r2_score(y_train, y_pred_train_), mse_train_lr))\n",
        "test_accu.append((r2_score(y_test, y_pred_test_), mse_test_lr))"
      ]
    },
    {
      "cell_type": "code",
      "execution_count": null,
      "metadata": {
        "id": "GyTa1iSxuhFg"
      },
      "outputs": [],
      "source": []
    },
    {
      "cell_type": "markdown",
      "metadata": {
        "id": "RNQJKU0yuhFg"
      },
      "source": [
        "# Random Forest Regressor"
      ]
    },
    {
      "cell_type": "code",
      "execution_count": null,
      "metadata": {
        "execution": {
          "iopub.execute_input": "2023-12-31T16:31:27.611253Z",
          "iopub.status.busy": "2023-12-31T16:31:27.609266Z",
          "iopub.status.idle": "2023-12-31T16:31:53.279768Z",
          "shell.execute_reply": "2023-12-31T16:31:53.278523Z",
          "shell.execute_reply.started": "2023-12-31T16:31:27.611198Z"
        },
        "trusted": true,
        "id": "WKVFaX3ouhFh"
      },
      "outputs": [],
      "source": [
        "from sklearn.ensemble import RandomForestRegressor\n",
        "regr = RandomForestRegressor()\n",
        "\n",
        "regr.fit(x_train_transform1, y_train)\n",
        "\n",
        "y_pred_train_regr= regr.predict(x_train_transform1)\n",
        "y_pred_test_regr = regr.predict(x_test_transform1)\n",
        "\n",
        "# Calculating MSE for training and test sets\n",
        "mse_train_regr = mean_squared_error(y_train, y_pred_train_regr)\n",
        "mse_test_regr = mean_squared_error(y_test, y_pred_test_regr)\n",
        "\n",
        "\n",
        "print(\"Training Accuracy : \",r2_score(y_train, y_pred_train_regr))\n",
        "print(\"Test Accuracy : \",r2_score(y_test, y_pred_test_regr))\n",
        "print(\"Training MSE: \", mse_train_regr)\n",
        "print(\"Test MSE: \", mse_test_regr)\n",
        "\n",
        "#train_accu.append(r2_score(y_train,y_pred_train_regr))\n",
        "#test_accu.append(r2_score(y_test,y_pred_test_regr))\n",
        "\n",
        "# Storing results as (R², MSE) tuples\n",
        "train_accu.append((r2_score(y_train, y_pred_train_regr), mse_train_regr))\n",
        "test_accu.append((r2_score(y_test, y_pred_test_regr), mse_test_regr))"
      ]
    },
    {
      "cell_type": "code",
      "execution_count": null,
      "metadata": {
        "id": "XMIR2ZsguhFh"
      },
      "outputs": [],
      "source": [
        "feature_importancesx = pd.Series(regr.feature_importances_, index=x_train.columns)\n",
        "print(feature_importancesx)"
      ]
    },
    {
      "cell_type": "code",
      "execution_count": null,
      "metadata": {
        "execution": {
          "iopub.execute_input": "2023-12-31T16:31:53.281961Z",
          "iopub.status.busy": "2023-12-31T16:31:53.281219Z",
          "iopub.status.idle": "2023-12-31T16:32:14.278496Z",
          "shell.execute_reply": "2023-12-31T16:32:14.277287Z",
          "shell.execute_reply.started": "2023-12-31T16:31:53.281921Z"
        },
        "trusted": true,
        "id": "IA1FWQZDuhFh"
      },
      "outputs": [],
      "source": [
        "# After applying vif\n",
        "from sklearn.ensemble import RandomForestRegressor\n",
        "regr = RandomForestRegressor()\n",
        "\n",
        "\n",
        "regr.fit(x2, y_train)\n",
        "\n",
        "y_pred_train_regr= regr.predict(x2)\n",
        "y_pred_test_regr = regr.predict(x_test1)\n",
        "\n",
        "# Calculating MSE for training and test sets\n",
        "mse_train_regr = mean_squared_error(y_train, y_pred_train_regr)\n",
        "mse_test_regr = mean_squared_error(y_test, y_pred_test_regr)\n",
        "\n",
        "print(\"Training Accuracy : \",r2_score(y_train, y_pred_train_regr))\n",
        "print(\"Test Accuracy : \",r2_score(y_test, y_pred_test_regr))\n",
        "print(\"Training MSE: \", mse_train_regr)\n",
        "print(\"Test MSE: \", mse_test_regr)\n",
        "\n",
        "#train_accu.append(r2_score(y_train,y_pred_train_regr))\n",
        "#test_accu.append(r2_score(y_test,y_pred_test_regr))\n",
        "\n",
        "# Storing results as (R², MSE) tuples\n",
        "train_accu.append((r2_score(y_train, y_pred_train_regr), mse_train_regr))\n",
        "test_accu.append((r2_score(y_test, y_pred_test_regr), mse_test_regr))"
      ]
    },
    {
      "cell_type": "code",
      "execution_count": null,
      "metadata": {
        "id": "bQWAWRQauhFh"
      },
      "outputs": [],
      "source": [
        "feature_importancesx = pd.Series(regr.feature_importances_, index=x2.columns)\n",
        "print(\"\\nFeature Importances:\\n\")\n",
        "print(feature_importancesx)"
      ]
    },
    {
      "cell_type": "markdown",
      "metadata": {
        "id": "rfa5CDvkuhFh"
      },
      "source": [
        "# Support Vector Regressor"
      ]
    },
    {
      "cell_type": "code",
      "execution_count": null,
      "metadata": {
        "execution": {
          "iopub.execute_input": "2023-12-31T16:32:14.281189Z",
          "iopub.status.busy": "2023-12-31T16:32:14.280044Z"
        },
        "trusted": true,
        "id": "Q3XRhNiFuhFi"
      },
      "outputs": [],
      "source": [
        "from sklearn.svm import SVR\n",
        "svr = SVR()\n",
        "svr.fit(x_train_transform1, y_train)\n",
        "\n",
        "y_pred_train_svr= svr.predict(x_train_transform1)\n",
        "y_pred_test_svr = svr.predict(x_test_transform1)\n",
        "\n",
        "mse_train = mean_squared_error(y_train, y_pred_train_svr)\n",
        "mse_test = mean_squared_error(y_test, y_pred_test_svr)\n",
        "\n",
        "print(\"Training Accuracy : \",r2_score(y_train, y_pred_train_svr))\n",
        "print(\"Test Accuracy : \",r2_score(y_test, y_pred_test_svr))\n",
        "print(\"Training MSE: \", mse_train)\n",
        "print(\"Test MSE: \", mse_test)\n",
        "\n",
        "\n",
        "#train_accu.append(r2_score(y_train,y_pred_train_svr))\n",
        "#test_accu.append(r2_score(y_test,y_pred_test_svr))\n",
        "\n",
        "train_accu.append((r2_score(y_train, y_pred_train_svr), mse_train))\n",
        "test_accu.append((r2_score(y_test, y_pred_test_svr), mse_test))"
      ]
    },
    {
      "cell_type": "code",
      "execution_count": null,
      "metadata": {
        "trusted": true,
        "id": "f4yd_x93uhFi"
      },
      "outputs": [],
      "source": [
        "# After applying vif\n",
        "from sklearn.svm import SVR\n",
        "svr = SVR()\n",
        "svr.fit(x2, y_train)\n",
        "\n",
        "y_pred_train_svr= svr.predict(x2)\n",
        "y_pred_test_svr = svr.predict(x_test1)\n",
        "\n",
        "mse_train = mean_squared_error(y_train, y_pred_train_svr)\n",
        "mse_test = mean_squared_error(y_test, y_pred_test_svr)\n",
        "\n",
        "print(\"Training Accuracy : \",r2_score(y_train, y_pred_train_svr))\n",
        "print(\"Test Accuracy : \",r2_score(y_test, y_pred_test_svr))\n",
        "print(\"Training MSE: \", mse_train)\n",
        "print(\"Test MSE: \", mse_test)\n",
        "\n",
        "train_accu.append((r2_score(y_train,y_pred_train_svr),mse_train))\n",
        "test_accu.append((r2_score(y_test,y_pred_test_svr),mse_test))"
      ]
    },
    {
      "cell_type": "markdown",
      "metadata": {
        "id": "oeCt0E7FuhFi"
      },
      "source": [
        "# CatBoostRegressor"
      ]
    },
    {
      "cell_type": "code",
      "execution_count": null,
      "metadata": {
        "trusted": true,
        "id": "sUorL6b_uhFi"
      },
      "outputs": [],
      "source": [
        "from catboost import CatBoostRegressor\n",
        "cat = CatBoostRegressor(learning_rate=0.15)\n",
        "cat.fit(x_train_transform1, y_train)\n",
        "\n",
        "y_pred_train_cat = cat.predict(x_train_transform1)\n",
        "y_pred_test_cat = cat.predict(x_test_transform1)\n",
        "\n",
        "# Calculating MSE for training and test sets\n",
        "mse_train_cat = mean_squared_error(y_train, y_pred_train_cat)\n",
        "mse_test_cat = mean_squared_error(y_test, y_pred_test_cat)\n",
        "\n",
        "print(\"Training Accuracy : \",r2_score(y_train, y_pred_train_cat))\n",
        "print()\n",
        "print(\"Test Accuracy : \",r2_score(y_test, y_pred_test_cat))\n",
        "print(\"Training MSE: \", mse_train_cat)\n",
        "print(\"Test MSE: \", mse_test_cat)\n",
        "\n",
        "#train_accu.append(r2_score(y_train,y_pred_train_cat))\n",
        "#test_accu.append(r2_score(y_test,y_pred_test_cat))\n",
        "train_accu.append((r2_score(y_train, y_pred_train_cat), mse_train_cat))\n",
        "test_accu.append((r2_score(y_test, y_pred_test_cat), mse_test_cat))"
      ]
    },
    {
      "cell_type": "code",
      "execution_count": null,
      "metadata": {
        "id": "5scd16qhuhFi"
      },
      "outputs": [],
      "source": [
        "feature_importance = cat.get_feature_importance()\n",
        "print(feature_importance)"
      ]
    },
    {
      "cell_type": "code",
      "execution_count": null,
      "metadata": {
        "trusted": true,
        "id": "47ezkKgsuhFj"
      },
      "outputs": [],
      "source": [
        "# After applying vif\n",
        "from catboost import CatBoostRegressor\n",
        "cat = CatBoostRegressor(learning_rate=0.15)\n",
        "cat.fit(x2, y_train)\n",
        "\n",
        "y_pred_train_cat = cat.predict(x2)\n",
        "y_pred_test_cat = cat.predict(x_test1)\n",
        "\n",
        "# Calculating MSE for training and test sets\n",
        "mse_train_cat = mean_squared_error(y_train, y_pred_train_cat)\n",
        "mse_test_cat = mean_squared_error(y_test, y_pred_test_cat)\n",
        "\n",
        "print(\"Training Accuracy : \",r2_score(y_train, y_pred_train_cat))\n",
        "print()\n",
        "print(\"Test Accuracy : \",r2_score(y_test, y_pred_test_cat))\n",
        "print(\"Training MSE: \", mse_train_cat)\n",
        "print(\"Test MSE: \", mse_test_cat)\n",
        "\n",
        "\n",
        "#train_accu.append(r2_score(y_train,y_pred_train_cat))\n",
        "#test_accu.append(r2_score(y_test,y_pred_test_cat))\n",
        "\n",
        "# Storing results as (R², MSE) tuples\n",
        "train_accu.append((r2_score(y_train, y_pred_train_cat), mse_train_cat))\n",
        "test_accu.append((r2_score(y_test, y_pred_test_cat), mse_test_cat))"
      ]
    },
    {
      "cell_type": "code",
      "execution_count": null,
      "metadata": {
        "id": "bwJsV5H-uhFj"
      },
      "outputs": [],
      "source": [
        "\n",
        "# Importing BaggingRegressor\n",
        "\n",
        "from sklearn.ensemble import BaggingRegressor\n",
        "from sklearn.metrics import r2_score\n",
        "\n",
        "# Train Bagging Regressor with pre-trained CatBoost as base estimator\n",
        "bagging_model = BaggingRegressor(estimator=cat, n_estimators=10, random_state=42)\n",
        "bagging_model.fit(x_train_transform1, y_train)\n",
        "\n",
        "y_pred_train_bag = bagging_model.predict(x_train_transform1)\n",
        "y_pred_test_bag = bagging_model.predict(x_test_transform1)\n",
        "\n",
        "# Calculating MSE for training and test sets\n",
        "mse_train_bag = mean_squared_error(y_train, y_pred_train_bag)\n",
        "mse_test_bag = mean_squared_error(y_test, y_pred_test_bag)\n",
        "# Printing accuracy results for Bagging Regressor\n",
        "print(\"\\nBagging Regressor Training Accuracy : \", r2_score(y_train, y_pred_train_bag))\n",
        "print(\"Bagging Regressor Test Accuracy : \", r2_score(y_test, y_pred_test_bag))\n",
        "print(\"Bagging Regressor Training MSE: \", mse_train_bag)\n",
        "print(\"Bagging Regressor Test MSE: \", mse_test_bag)\n",
        "\n",
        "\n",
        "# Storing results in train_accu and test_accu lists\n",
        "#train_accu.append(r2_score(y_train, y_pred_train_bag))\n",
        "#test_accu.append(r2_score(y_test, y_pred_test_bag))\n",
        "\n",
        "# Storing results in train_accu and test_accu lists\n",
        "train_accu.append((r2_score(y_train, y_pred_train_bag), mse_train_bag))\n",
        "test_accu.append((r2_score(y_test, y_pred_test_bag), mse_test_bag))\n",
        "\n"
      ]
    },
    {
      "cell_type": "code",
      "execution_count": null,
      "metadata": {
        "id": "ZddROpJ2uhFj"
      },
      "outputs": [],
      "source": [
        "# Importing BaggingRegressor\n",
        "#After Applying VIF\n",
        "from sklearn.ensemble import BaggingRegressor\n",
        "from sklearn.metrics import r2_score\n",
        "\n",
        "# Train Bagging Regressor with pre-trained CatBoost as base estimator\n",
        "bagging_model = BaggingRegressor(estimator=cat, n_estimators=10, random_state=42)\n",
        "bagging_model.fit(x2, y_train)\n",
        "\n",
        "y_pred_train_bag = bagging_model.predict(x2)\n",
        "y_pred_test_bag = bagging_model.predict(x_test1)\n",
        "\n",
        "# Calculating MSE for training and test sets\n",
        "mse_train = mean_squared_error(y_train, y_pred_train_bag)\n",
        "mse_test = mean_squared_error(y_test, y_pred_test_bag)\n",
        "\n",
        "# Printing accuracy results for Bagging Regressor\n",
        "print(\"\\nBagging Regressor Training Accuracy : \", r2_score(y_train, y_pred_train_bag))\n",
        "print(\"Bagging Regressor Test Accuracy : \", r2_score(y_test, y_pred_test_bag))\n",
        "print(\"Bagging Regressor Training MSE: \", mse_train)\n",
        "print(\"Bagging Regressor Test MSE: \", mse_test)\n",
        "\n",
        "# Storing results in train_accu and test_accu lists\n",
        "#train_accu.append(r2_score(y_train, y_pred_train_bag))\n",
        "#test_accu.append(r2_score(y_test, y_pred_test_bag))\n",
        "\n",
        "train_accu.append((r2_score(y_train, y_pred_train_bag), mse_train))\n",
        "test_accu.append((r2_score(y_test, y_pred_test_bag), mse_test))\n",
        "\n",
        "\n",
        "\n"
      ]
    },
    {
      "cell_type": "markdown",
      "metadata": {
        "id": "y6eMyHwGuhFk"
      },
      "source": [
        "# Comparison of the models"
      ]
    },
    {
      "cell_type": "code",
      "execution_count": null,
      "metadata": {
        "trusted": true,
        "id": "OEOBwZrauhFk"
      },
      "outputs": [],
      "source": [
        "#algorithm = ['LinearRegression','LRvif','RandomForestRegressor','RFRvif','SupprtVectorRegressor','SVRvif','CatBoostRegressor','CBRvif','BaggingRegressor','BRvif']\n",
        "#accu_data = {'Training Accuracy':train_accu,'Test Accuracy':test_accu}\n",
        "#model = pd.DataFrame(accu_data, index = algorithm)\n",
        "#model\n",
        "\n",
        "# Updated DataFrame creation\n",
        "algorithm = [\n",
        "    'LinearRegression', 'LRvif', 'RandomForestRegressor', 'RFRvif',\n",
        "    'SupportVectorRegressor', 'SVRvif', 'CatBoostRegressor', 'CBRvif',\n",
        "    'BaggingRegressor', 'BRvif'\n",
        "]\n",
        "\n",
        "# Creating the DataFrame with separate columns for R² and MSE\n",
        "accu_data = {\n",
        "    'Training Accuracy (R²)': [x[0] for x in train_accu],\n",
        "    'Training MSE': [x[1] for x in train_accu],\n",
        "    'Test Accuracy (R²)': [x[0] for x in test_accu],\n",
        "    'Test MSE': [x[1] for x in test_accu]\n",
        "}\n",
        "\n",
        "# Creating the DataFrame\n",
        "model = pd.DataFrame(accu_data, index=algorithm)\n",
        "model"
      ]
    },
    {
      "cell_type": "markdown",
      "metadata": {
        "id": "Gk8kNFieuhFk"
      },
      "source": [
        "# Conclusion\n",
        "\n",
        "* Machine Learning Algorithm can be used to predict the crop yield in different states\n",
        "* Challenge is to have the authentic dataset"
      ]
    }
  ],
  "metadata": {
    "kaggle": {
      "accelerator": "none",
      "dataSources": [
        {
          "datasetId": 3525502,
          "sourceId": 6147658,
          "sourceType": "datasetVersion"
        }
      ],
      "dockerImageVersionId": 30558,
      "isGpuEnabled": false,
      "isInternetEnabled": false,
      "language": "python",
      "sourceType": "notebook"
    },
    "kernelspec": {
      "display_name": "Python 3",
      "language": "python",
      "name": "python3"
    },
    "language_info": {
      "codemirror_mode": {
        "name": "ipython",
        "version": 3
      },
      "file_extension": ".py",
      "mimetype": "text/x-python",
      "name": "python",
      "nbconvert_exporter": "python",
      "pygments_lexer": "ipython3",
      "version": "3.12.3"
    },
    "colab": {
      "provenance": [],
      "include_colab_link": true
    }
  },
  "nbformat": 4,
  "nbformat_minor": 0
}